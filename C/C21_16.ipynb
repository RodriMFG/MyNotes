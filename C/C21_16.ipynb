{
 "cells": [
  {
   "cell_type": "markdown",
   "id": "e28b7fe4",
   "metadata": {},
   "source": [
    "## Chapter 16: Using disk files"
   ]
  },
  {
   "cell_type": "code",
   "execution_count": null,
   "id": "4fd7067b",
   "metadata": {},
   "outputs": [],
   "source": []
  }
 ],
 "metadata": {
  "kernelspec": {
   "display_name": "C",
   "language": "c",
   "name": "c"
  },
  "language_info": {
   "file_extension": ".c",
   "mimetype": "text/x-csrc",
   "name": "text/x-csrc"
  }
 },
 "nbformat": 4,
 "nbformat_minor": 5
}
