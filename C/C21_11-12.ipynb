{
 "cells": [
  {
   "cell_type": "markdown",
   "id": "dd91ab27",
   "metadata": {},
   "source": [
    "## 11. Structures"
   ]
  },
  {
   "cell_type": "markdown",
   "id": "a8d2b217",
   "metadata": {},
   "source": [
    "A structure is a collection of one or more variales grouped under a single name. It can hold arrays and other structures. Each variable under a structure is called a member."
   ]
  },
  {
   "cell_type": "markdown",
   "id": "833abf10",
   "metadata": {},
   "source": [
    "#### Defining structures"
   ]
  },
  {
   "cell_type": "markdown",
   "id": "a50dc2a7",
   "metadata": {},
   "source": [
    "Lets define a structures to deal with coodinates.  \n",
    "```c\n",
    "struct coord {\n",
    "    int x;\n",
    "    int y;\n",
    "};    \n",
    "```  \n",
    "But this doesn't create any instances of the structure. There's to ways of doing this.\n",
    "```c\n",
    "struct coord {\n",
    "    int x;\n",
    "    int y;\n",
    "} first, second;    \n",
    "```  \n",
    "\n",
    "```c\n",
    "struct coord {\n",
    "    int x;\n",
    "    int y;\n",
    "};\n",
    "\n",
    "struct coord first, second;\n",
    "```  \n",
    "These statements define the structure type and declare two structure, first and second, both of type coord."
   ]
  },
  {
   "cell_type": "markdown",
   "id": "3613110e",
   "metadata": {},
   "source": [
    "#### Accesing structure members"
   ]
  },
  {
   "cell_type": "markdown",
   "id": "f8eaea6f",
   "metadata": {},
   "source": [
    "Individual members can be used like other variables. They are accesed with the operator \".\".  \n",
    "IF we have a structure named first referring to a screen location that has coordinates x=50, y=100, we write:  \n",
    "```c\n",
    "first.x = 50;\n",
    "first.y = 100;\n",
    "// And later printing them\n",
    "printf(\"%d%d\", first.x, first.y); \n",
    "```  \n",
    "We can copy information from one structure to an other of the same type.\n",
    "```c\n",
    "irst.x = second.x\n",
    "```"
   ]
  },
  {
   "cell_type": "markdown",
   "id": "3746a68e",
   "metadata": {},
   "source": [
    "Another example of initializing a structure instance:\n",
    "```c\n",
    "// Declare and initialize a structure\n",
    "struct time {\n",
    "    int hours;\n",
    "    int minutes;\n",
    "    int seconds;\n",
    "} time_of_birth = { 8, 45, 0 };\n",
    "```"
   ]
  },
  {
   "cell_type": "markdown",
   "id": "a5d48a7a",
   "metadata": {},
   "source": [
    "### More complex structures"
   ]
  },
  {
   "cell_type": "markdown",
   "id": "52a1fd83",
   "metadata": {},
   "source": [
    "#### Structures that contain structures"
   ]
  },
  {
   "cell_type": "markdown",
   "id": "08608a10",
   "metadata": {},
   "source": [
    "Let's say now we need to deal with rectangles and their coordinates.  \n",
    "```c\n",
    "struct rectangle {\n",
    "    struct coord topleft;\n",
    "    struct coord bottomrt;\n",
    "} box;\n",
    "```  \n",
    "This defines a structure of type rectangle that contains to structures of type coord, later a the structure is defined.  \n",
    "To access the members we con chain the structures:  \n",
    "```c\n",
    "box.topleft.x = 1;\n",
    "box.topleft.y = 10;\n",
    "box.bottomrt.x = 10;\n",
    "box.bottomrt.x = 100;\n",
    "```"
   ]
  },
  {
   "cell_type": "code",
   "execution_count": 9,
   "id": "fcaac230",
   "metadata": {},
   "outputs": [
    {
     "name": "stdout",
     "output_type": "stream",
     "text": [
      "Enter top right coordinates (x, y): 10 10\n",
      "Enter bottom left coordinates (x, y): 0 0\n",
      "\n",
      "The area is 100 units.\n"
     ]
    }
   ],
   "source": [
    "// Demonstrates structures and their composition\n",
    "/* Receives input for corner coordinates of a rectangle and\n",
    "calculates the area. Assumes that the y coordinate of the\n",
    "upper-left corner is greater than the y coordinate of the\n",
    "lower-right corner, that the x coordinate of the lower-\n",
    "right corner is greater than the x coordinate of the upper-\n",
    "left corner, and that all coordinates are positive. */\n",
    "\n",
    "#include <stdio.h>\n",
    "\n",
    "int length, width;\n",
    "long area;\n",
    "\n",
    "struct coord {\n",
    "    int x;\n",
    "    int y;\n",
    "};\n",
    "\n",
    "struct rect {\n",
    "    struct coord topr;\n",
    "    struct coord bottoml;\n",
    "} box;\n",
    "\n",
    "int main()\n",
    "{\n",
    "    //input coordinates\n",
    "    printf(\"Enter top right coordinates (x, y): \");\n",
    "    scanf(\"%d %d\", &box.topr.x, &box.topr.y);\n",
    "    \n",
    "    printf(\"Enter bottom left coordinates (x, y): \");\n",
    "    scanf(\"%d %d\", &box.bottoml.x, &box.bottoml.y);\n",
    "    \n",
    "    //calculate length and width\n",
    "    width = box.topr.x - box.bottoml.x;\n",
    "    length = box.topr.y - box.bottoml.y;\n",
    "    \n",
    "    //calculate area\n",
    "    area = width * length;\n",
    "    \n",
    "    printf(\"\\nThe area is %ld units.\\n\", area);\n",
    "    \n",
    "    return 0;\n",
    "}"
   ]
  },
  {
   "cell_type": "markdown",
   "id": "335f77f9",
   "metadata": {},
   "source": [
    "#### Structures that contain arrays"
   ]
  },
  {
   "cell_type": "code",
   "execution_count": 1,
   "id": "54105adb",
   "metadata": {
    "scrolled": true
   },
   "outputs": [
    {
     "name": "stdout",
     "output_type": "stream",
     "text": [
      "Enter the donor's first and surname: Rodrigo Friend\n",
      "\n",
      "Enter the donation amount: 1000\n",
      "\n",
      "Donor Rodrigo Friend gave $1000.00.\n"
     ]
    }
   ],
   "source": [
    "// Demonstrates a structure that has array members\n",
    "\n",
    "#include <stdio.h>\n",
    "\n",
    "//define structure to hold data\n",
    "\n",
    "struct data {\n",
    "    float amount;\n",
    "    char fname[30];\n",
    "    char lname[30];\n",
    "} rec;\n",
    "\n",
    "int main ()\n",
    "{\n",
    "    //input data\n",
    "    \n",
    "    printf(\"Enter the donor's first and surname: \");\n",
    "    scanf(\"%s %s\", &rec.fname, &rec.lname);\n",
    "    \n",
    "    printf(\"\\nEnter the donation amount: \");\n",
    "    scanf(\"%f\", &rec.amount);\n",
    "    \n",
    "    printf(\"\\nDonor %s %s gave $%.2f.\\n\", rec.fname, rec.lname, \n",
    "           rec.amount);\n",
    "    //%.2f specifies a floating-point value digits to be displayed\n",
    "    \n",
    "    return 0;\n",
    "}"
   ]
  },
  {
   "cell_type": "markdown",
   "id": "3211ec18",
   "metadata": {},
   "source": [
    "#### Array of structures"
   ]
  },
  {
   "cell_type": "code",
   "execution_count": 1,
   "id": "8d31f842",
   "metadata": {},
   "outputs": [
    {
     "name": "stdout",
     "output_type": "stream",
     "text": [
      "\n",
      "Enter first and last names: R F\n",
      "\n",
      "Enter phone number: 7775239124\n",
      "\n",
      "Enter first and last names: E F\n",
      "\n",
      "Enter phone number: 7771698734\n",
      "\n",
      "Enter first and last names: G G\n",
      "\n",
      "Enter phone number: 7771314075\n",
      "\n",
      "Name: R F\t\tPhone: 7775239124\n",
      "Name: E F\t\tPhone: 7771698734\n",
      "Name: G G\t\tPhone: 7771314075\n"
     ]
    }
   ],
   "source": [
    "// Demonstrates arrays of structures\n",
    "\n",
    "#include <stdio.h>\n",
    "\n",
    "//define structure to hold entries\n",
    "\n",
    "struct entry {\n",
    "    char fname[20];\n",
    "    char lname[20];\n",
    "    long phone;\n",
    "};\n",
    "\n",
    "//declare array of structures\n",
    "\n",
    "struct entry list[3];\n",
    "\n",
    "int main()\n",
    "{\n",
    "    //loop to input data of 4 people\n",
    "    \n",
    "    for (int i = 0; i < 3; i++)\n",
    "    {\n",
    "        printf(\"\\nEnter first and last names: \");\n",
    "        scanf(\"%s %s\", list[i].fname, list[i].lname);\n",
    "        printf(\"\\nEnter phone number: \");\n",
    "        scanf(\"%ld\", &list[i].phone);\n",
    "    }\n",
    "    \n",
    "    printf(\"\\n\");\n",
    "    \n",
    "    //loop to display data\n",
    "    for (int i = 0; i < 3; i++)\n",
    "    {\n",
    "        printf(\"Name: %s %s\", list[i].fname, list[i].lname);\n",
    "        printf(\"\\t\\tPhone: %ld\\n\", list[i].phone);\n",
    "    }\n",
    "\n",
    "return 0;\n",
    "}"
   ]
  },
  {
   "cell_type": "markdown",
   "id": "c27648c1",
   "metadata": {},
   "source": [
    "### Initializing structures"
   ]
  },
  {
   "cell_type": "markdown",
   "id": "742622c1",
   "metadata": {},
   "source": [
    "```c\n",
    "struct sale {\n",
    "    char customer[20];\n",
    "    char item[20];\n",
    "    float amount;\n",
    "} mysale = { \"Acme Industries\", \n",
    "            \"Left-handed widget\", \n",
    "            1000.00};\n",
    "```"
   ]
  },
  {
   "cell_type": "markdown",
   "id": "ea68c325",
   "metadata": {},
   "source": [
    "When these statements are executed, they perform the following actions:\n",
    "1. Define a structure type named sale (lines 1 through 5).\n",
    "2. Declare an instance of structure type sale named mysale (line 5).\n",
    "3. Initialize the structure member mysale.customer to the string \"Acme Industries\" (line 5).\n",
    "4. Initialize the structure member mysale.item to the string \"Left-handed widget\" (line 6).\n",
    "5. Initialize the structure member mysale.amount to the value 1000.00 (line 7)."
   ]
  },
  {
   "cell_type": "markdown",
   "id": "7ebbc113",
   "metadata": {},
   "source": [
    "In the case that a structures contains structures as members:"
   ]
  },
  {
   "cell_type": "markdown",
   "id": "2f3d4c41",
   "metadata": {},
   "source": [
    "```c\n",
    "struct customer {\n",
    "    char firm[20];\n",
    "    char contact[25];\n",
    "}\n",
    "\n",
    "struct sale {\n",
    "    struct customer buyer;\n",
    "    char item[20];\n",
    "    float amount;\n",
    "} mysale = { { \"Acme Industries\", \"George Adams\"},\n",
    "            \"Left-handed widget\",\n",
    "            1000.00\n",
    "            };\n",
    "```"
   ]
  },
  {
   "cell_type": "markdown",
   "id": "5f244d01",
   "metadata": {},
   "source": [
    "You can also use pointers within structures, and at the moment of declaring such variables, treating them as pointers."
   ]
  },
  {
   "cell_type": "markdown",
   "id": "04767bca",
   "metadata": {},
   "source": [
    "### Pointer to structures"
   ]
  },
  {
   "cell_type": "markdown",
   "id": "8afb68cd",
   "metadata": {},
   "source": [
    "```c\n",
    "struct part {\n",
    "    int number;\n",
    "    char name[10];\n",
    "};\n",
    "```"
   ]
  },
  {
   "cell_type": "markdown",
   "id": "8335e387",
   "metadata": {},
   "source": [
    "Given such code, if we declare:  \n",
    "```c\n",
    "struct part *p_part;\n",
    "```  \n",
    "We are defining a pointer of type part, not assigning it to any instance."
   ]
  },
  {
   "cell_type": "markdown",
   "id": "e66dafbc",
   "metadata": {},
   "source": [
    "Later on we can assign it as such:  \n",
    "```c\n",
    "struct part gizmo;\n",
    "\n",
    "p_part = &gizmo;\n",
    "```"
   ]
  },
  {
   "cell_type": "markdown",
   "id": "ac2a5f3d",
   "metadata": {},
   "source": [
    "### Pointers and arrays of structures"
   ]
  },
  {
   "cell_type": "code",
   "execution_count": 6,
   "id": "4430fe30",
   "metadata": {},
   "outputs": [
    {
     "name": "stdout",
     "output_type": "stream",
     "text": [
      "At address 0x7f0450c920e0: 1 Smith\n",
      "At address 0x7f0450c920f0: 2 Jones\n",
      "At address 0x7f0450c92100: 3 Adams\n"
     ]
    }
   ],
   "source": [
    "// Demonstrates stepping through an array of pointers\n",
    "\n",
    "#include <stdio.h>\n",
    "\n",
    "#define MAX 3\n",
    "\n",
    "//define a structure and initialize it to an array of four\n",
    "\n",
    "struct part {\n",
    "    int number;\n",
    "    char name[10];\n",
    "} data[MAX] = {{1, \"Smith\"}, \n",
    "               {2, \"Jones\"}, \n",
    "               {3, \"Adams\"}\n",
    "              };\n",
    "\n",
    "//declare a pointer of type part\n",
    "\n",
    "struct part *ptr;\n",
    "\n",
    "int main(){\n",
    "    //initialize ptr to the array\n",
    "    \n",
    "    ptr = data;\n",
    "    \n",
    "    //loop through the array\n",
    "    \n",
    "    for (int i = 0; i < MAX; i++)\n",
    "    {\n",
    "        printf(\"At address %p: %d %s\\n\", ptr, ptr->number,\n",
    "              ptr->name);\n",
    "        ptr++;\n",
    "    }\n",
    "    \n",
    "    return 0;\n",
    "}"
   ]
  },
  {
   "cell_type": "markdown",
   "id": "3fbdb523",
   "metadata": {},
   "source": [
    "### Passing structures as arguments to functions"
   ]
  },
  {
   "cell_type": "code",
   "execution_count": 1,
   "id": "7f98c6fe",
   "metadata": {},
   "outputs": [
    {
     "name": "stdout",
     "output_type": "stream",
     "text": [
      "Enter the donor's first and last names: Rodrigo Friend\n",
      "\n",
      "Enter the donation amount: 1000\n",
      "\n",
      "Donor Rodrigo Friend gave $1000.00.\n"
     ]
    }
   ],
   "source": [
    "// Demonstrates passing a structure to a function\n",
    "\n",
    "#include <stdio.h>\n",
    "\n",
    "//declare and define a structure\n",
    "\n",
    "struct data {\n",
    "    float amount;\n",
    "    char fname[30];\n",
    "    char lname[30];\n",
    "} rec;\n",
    "\n",
    "//function proto that takes a structure of type data\n",
    "\n",
    "void print_rec(struct data x);\n",
    "\n",
    "int main()\n",
    "{\n",
    "    printf(\"Enter the donor's first and last names: \");\n",
    "    scanf(\"%s %s\", rec.fname, rec.lname);\n",
    "    \n",
    "    printf(\"\\nEnter the donation amount: \");\n",
    "    scanf(\"%f\", &rec.amount);\n",
    "    \n",
    "    print_rec( rec );\n",
    "    \n",
    "    return 0;\n",
    "}\n",
    "\n",
    "void print_rec(struct data x)\n",
    "{\n",
    "    printf(\"\\nDonor %s %s gave $%.2f.\\n\", \n",
    "            x.fname, x.lname, x.amount);\n",
    "}"
   ]
  },
  {
   "cell_type": "markdown",
   "id": "61386a35",
   "metadata": {},
   "source": [
    "### Unions"
   ]
  },
  {
   "cell_type": "markdown",
   "id": "d8d359d9",
   "metadata": {},
   "source": [
    "Unions are similar to structures. They are used in the same way, except that only one of its members can be used at a time, because they occupy the same area of memory."
   ]
  },
  {
   "cell_type": "code",
   "execution_count": 2,
   "id": "efdcbfe1",
   "metadata": {},
   "outputs": [
    {
     "name": "stdout",
     "output_type": "stream",
     "text": [
      "\n",
      "The generic value is...$\n",
      "The generic value is...123.456001\n",
      "The generic value is...111"
     ]
    }
   ],
   "source": [
    "// Practical use of a union\n",
    "\n",
    "#include <stdio.h>\n",
    "\n",
    "#define CHAR 'C'\n",
    "#define INT 'I'\n",
    "#define FLOAT 'F'\n",
    "\n",
    "struct generic_tag {\n",
    "    char type;\n",
    "    union shared_tag {\n",
    "        char c;\n",
    "        int i;\n",
    "        float f;\n",
    "    } shared;\n",
    "};\n",
    "\n",
    "void print_function ( struct generic_tag generic );\n",
    "\n",
    "int main()\n",
    "{\n",
    "    struct generic_tag var;\n",
    "    \n",
    "    var.type = CHAR;\n",
    "    var.shared.c = '$';\n",
    "    print_function ( var );\n",
    "    \n",
    "    var.type = FLOAT;\n",
    "    var.shared.f = (float) 123.456;\n",
    "    print_function ( var );\n",
    "    \n",
    "    var.type = INT;\n",
    "    var.shared.i = 111;\n",
    "    print_function( var );\n",
    "    \n",
    "    return 0;\n",
    "}\n",
    "\n",
    "void print_function( struct generic_tag generic )\n",
    "{\n",
    "    printf(\"\\nThe generic value is...\");\n",
    "    switch( generic.type )\n",
    "    {\n",
    "        case CHAR: printf(\"%c\", generic.shared.c);\n",
    "            break;\n",
    "        case INT: printf(\"%d\", generic.shared.i);\n",
    "            break;\n",
    "        case FLOAT: printf(\"%f\", generic.shared.f);\n",
    "            break;\n",
    "        default: printf(\"Unknown type\");\n",
    "            break;\n",
    "    }\n",
    "}"
   ]
  },
  {
   "cell_type": "markdown",
   "id": "ecc2ab46",
   "metadata": {},
   "source": [
    "#### typedef keyword"
   ]
  },
  {
   "cell_type": "markdown",
   "id": "7242f220",
   "metadata": {},
   "source": [
    "You can use the typedef keyword to create a synonym for a structure or union type. For example, the\n",
    "following statements define coord as a synonym for the indicated structure:  \n",
    "```c\n",
    "typedef struct {\n",
    "    int x;\n",
    "    int y;\n",
    "} coord;\n",
    "```  \n",
    "You can then declare instances of this structure using the coord identifier:\n",
    "coord topleft, bottomright;\n",
    "Note that a typedef is different from a structure tag, as described earlier in this chapter. If you write  \n",
    "```c\n",
    "struct coord {\n",
    "    int x;\n",
    "    int y;\n",
    "};\n",
    "```\n",
    "the identifier coord is a tag for the structure. You can use the tag to declare instances of the structure, but\n",
    "unlike with a typedef, you must include the struct keyword:  \n",
    "```c\n",
    "struct coord topleft, bottomright;\n",
    "```"
   ]
  },
  {
   "cell_type": "markdown",
   "id": "8db0ac0a",
   "metadata": {},
   "source": [
    "## 12. Variable scope"
   ]
  },
  {
   "cell_type": "markdown",
   "id": "692037ae",
   "metadata": {},
   "source": [
    "The scope of a variables refers to the extent of which different parts of a program have access to a variable."
   ]
  },
  {
   "cell_type": "code",
   "execution_count": 1,
   "id": "5c2923c5",
   "metadata": {},
   "outputs": [
    {
     "name": "stdout",
     "output_type": "stream",
     "text": [
      "999\n",
      "999\n"
     ]
    }
   ],
   "source": [
    "/* Illustrates variable scope.\n",
    "The variable is accessible to the function */\n",
    "\n",
    "#include <stdio.h>\n",
    "\n",
    "int x = 999;\n",
    "void print_value(void);\n",
    "\n",
    "int main()\n",
    "{\n",
    "    printf(\"%d\\n\", x);\n",
    "    print_value();\n",
    "    \n",
    "    return 0;\n",
    "}\n",
    "\n",
    "void print_value(void)\n",
    "{\n",
    "    printf(\"%d\\n\", x);\n",
    "}"
   ]
  },
  {
   "cell_type": "code",
   "execution_count": 3,
   "id": "e021e65b",
   "metadata": {},
   "outputs": [
    {
     "name": "stderr",
     "output_type": "stream",
     "text": [
      "/tmp/tmp07ioc51z.c: In function ‘print_value’:\n",
      "/tmp/tmp07ioc51z.c:18:20: error: ‘x’ undeclared (first use in this function)\n",
      "   18 |     printf(\"%d\\n\", x);\n",
      "      |                    ^\n",
      "/tmp/tmp07ioc51z.c:18:20: note: each undeclared identifier is reported only once for each function it appears in\n",
      "[C kernel] GCC exited with code 1, the executable will not be executed"
     ]
    }
   ],
   "source": [
    "/* Illustrates variable scope.\n",
    "The variable is inaccessible to the function */\n",
    "\n",
    "#include <stdio.h>\n",
    "\n",
    "void print_value(void);\n",
    "int main()\n",
    "{\n",
    "    int x = 999;\n",
    "    printf(\"%d\\n\", x);\n",
    "    print_value();\n",
    "    \n",
    "    return 0;\n",
    "}\n",
    "\n",
    "void print_value(void)\n",
    "{\n",
    "    printf(\"%d\\n\", x);\n",
    "}"
   ]
  },
  {
   "cell_type": "markdown",
   "id": "30e42750",
   "metadata": {},
   "source": [
    "### External variables"
   ]
  },
  {
   "cell_type": "markdown",
   "id": "066a2ca0",
   "metadata": {},
   "source": [
    "An external variable is a variable defined outside of any function, including the main() function and their scope is the entire program."
   ]
  },
  {
   "cell_type": "markdown",
   "id": "b0832820",
   "metadata": {},
   "source": [
    "#### The extern keyword"
   ]
  },
  {
   "cell_type": "markdown",
   "id": "1b8cd468",
   "metadata": {},
   "source": [
    "It is good practice to redeclare external variables within functions, this redeclaration takes the form:  \n",
    "```c\n",
    "extern type name;\n",
    "```"
   ]
  },
  {
   "cell_type": "code",
   "execution_count": 4,
   "id": "630befd1",
   "metadata": {},
   "outputs": [
    {
     "name": "stdout",
     "output_type": "stream",
     "text": [
      "999\n",
      "999\n"
     ]
    }
   ],
   "source": [
    "/* Illustrates declaring external variables. */\n",
    "\n",
    "#include <stdio.h>\n",
    "\n",
    "int x = 999;\n",
    "\n",
    "void print_value(void);\n",
    "\n",
    "int main()\n",
    "{\n",
    "    extern int x;\n",
    "    \n",
    "    printf(\"%d\\n\", x);\n",
    "    print_value();\n",
    "\n",
    "    return 0;\n",
    "}\n",
    "\n",
    "void print_value(void)\n",
    "{\n",
    "    extern int x;\n",
    "    printf(\"%d\\n\", x);\n",
    "}"
   ]
  },
  {
   "cell_type": "markdown",
   "id": "2c564614",
   "metadata": {},
   "source": [
    "### Local variables"
   ]
  },
  {
   "cell_type": "markdown",
   "id": "c55e320a",
   "metadata": {},
   "source": [
    "Variables defined within functions. Local variables have to be initialized before being used, since they're not set to 0 by the compiler."
   ]
  },
  {
   "cell_type": "markdown",
   "id": "e8648aa0",
   "metadata": {},
   "source": [
    "#### Static vs Automatic variables"
   ]
  },
  {
   "cell_type": "markdown",
   "id": "87bb6e05",
   "metadata": {},
   "source": [
    "Local variables are automatic by default, this means that they're created each time a function is called, and destroyed after the function's execution."
   ]
  },
  {
   "cell_type": "markdown",
   "id": "a9bd7c2b",
   "metadata": {},
   "source": [
    "If we want to retain local variables between call we use the static keyword:  \n",
    "```c\n",
    "void func1(int x)\n",
    "{\n",
    "    static int a;\n",
    "    /* Additional code goes here */\n",
    "}\n",
    "```"
   ]
  },
  {
   "cell_type": "code",
   "execution_count": 5,
   "id": "5986f1be",
   "metadata": {},
   "outputs": [
    {
     "name": "stdout",
     "output_type": "stream",
     "text": [
      "At iteration 0: x = 0, y = 0\n",
      "At iteration 1: x = 1, y = 0\n",
      "At iteration 2: x = 2, y = 0\n",
      "At iteration 3: x = 3, y = 0\n",
      "At iteration 4: x = 4, y = 0\n",
      "At iteration 5: x = 5, y = 0\n",
      "At iteration 6: x = 6, y = 0\n",
      "At iteration 7: x = 7, y = 0\n",
      "At iteration 8: x = 8, y = 0\n",
      "At iteration 9: x = 9, y = 0\n",
      "At iteration 10: x = 10, y = 0\n",
      "At iteration 11: x = 11, y = 0\n",
      "At iteration 12: x = 12, y = 0\n",
      "At iteration 13: x = 13, y = 0\n",
      "At iteration 14: x = 14, y = 0\n",
      "At iteration 15: x = 15, y = 0\n",
      "At iteration 16: x = 16, y = 0\n",
      "At iteration 17: x = 17, y = 0\n",
      "At iteration 18: x = 18, y = 0\n",
      "At iteration 19: x = 19, y = 0\n"
     ]
    }
   ],
   "source": [
    "/* Demonstrates automatic and static local variables. */\n",
    "\n",
    "#include <stdio.h>\n",
    "\n",
    "void func1(void);\n",
    "int main()\n",
    "{\n",
    "int count;\n",
    "\n",
    "for (count = 0; count < 20; count++)\n",
    "    {\n",
    "        printf(\"At iteration %d: \", count);\n",
    "        func1();\n",
    "    }\n",
    "\n",
    "    return 0;\n",
    "}\n",
    "\n",
    "void func1(void)\n",
    "{\n",
    "    static int x = 0;\n",
    "    \n",
    "    int y = 0;\n",
    "    \n",
    "    printf(\"x = %d, y = %d\\n\", x++, y++);\n",
    "}"
   ]
  },
  {
   "cell_type": "markdown",
   "id": "08060375",
   "metadata": {},
   "source": [
    "#### External static variables"
   ]
  },
  {
   "cell_type": "markdown",
   "id": "bd2c3a53",
   "metadata": {},
   "source": [
    "You can make an external variable static by including the static keyword in its definition:  \n",
    "```c\n",
    "static float rate;\n",
    "\n",
    "int main()\n",
    "{\n",
    "    /* Additional code goes here */\n",
    "}\n",
    "```"
   ]
  },
  {
   "attachments": {
    "image.png": {
     "image/png": "[encoded data removed]"
    }
   },
   "cell_type": "markdown",
   "id": "b5c7a64a",
   "metadata": {},
   "source": [
    "![image.png](attachment:image.png)"
   ]
  },
  {
   "cell_type": "markdown",
   "id": "8912c61c",
   "metadata": {},
   "source": [
    "### Local variables and blocks"
   ]
  },
  {
   "cell_type": "markdown",
   "id": "148e70fe",
   "metadata": {},
   "source": [
    "Variables can be defined local to program blocks."
   ]
  },
  {
   "cell_type": "code",
   "execution_count": 6,
   "id": "6f2cb297",
   "metadata": {},
   "outputs": [
    {
     "name": "stdout",
     "output_type": "stream",
     "text": [
      "\n",
      "Outside the block, count = 0\n",
      "Within the block, count = 999\n",
      "Outside the block again, count = 0\n"
     ]
    }
   ],
   "source": [
    "/* Demonstrates local variables within blocks. */\n",
    "\n",
    "#include <stdio.h>\n",
    "\n",
    "int main()\n",
    "{\n",
    "    /* Define a variable local to main(). */\n",
    "    int count = 0;\n",
    "    \n",
    "    printf(\"\\nOutside the block, count = %d\", count);\n",
    "    \n",
    "    /* Start a block. */\n",
    "    {\n",
    "        /* Define a variable local to the block. */\n",
    "        int count = 999;\n",
    "        \n",
    "        printf(\"\\nWithin the block, count = %d\", count);\n",
    "\n",
    "    }\n",
    "\n",
    "    printf(\"\\nOutside the block again, count = %d\\n\", count);\n",
    "    \n",
    "    return 0;\n",
    "}"
   ]
  },
  {
   "cell_type": "code",
   "execution_count": null,
   "id": "917b1781",
   "metadata": {},
   "outputs": [],
   "source": []
  }
 ],
 "metadata": {
  "kernelspec": {
   "display_name": "C",
   "language": "c",
   "name": "c"
  },
  "language_info": {
   "file_extension": ".c",
   "mimetype": "text/x-csrc",
   "name": "text/x-csrc"
  }
 },
 "nbformat": 4,
 "nbformat_minor": 5
}
