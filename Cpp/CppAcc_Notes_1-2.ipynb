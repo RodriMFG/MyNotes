{
 "cells": [
  {
   "cell_type": "markdown",
   "id": "aaa0333e",
   "metadata": {},
   "source": [
    "## Chapter 1: Strings"
   ]
  },
  {
   "cell_type": "markdown",
   "id": "45ab4d0e",
   "metadata": {},
   "source": [
    "Input and output"
   ]
  },
  {
   "cell_type": "code",
   "execution_count": 1,
   "id": "98b5897d",
   "metadata": {},
   "outputs": [
    {
     "name": "stdout",
     "output_type": "stream",
     "text": [
      "Enter first name: "
     ]
    },
    {
     "name": "stdin",
     "output_type": "stream",
     "text": [
      " Rodrigo\n"
     ]
    },
    {
     "name": "stdout",
     "output_type": "stream",
     "text": [
      "Hello, Rodrigo\n"
     ]
    },
    {
     "data": {
      "text/plain": [
       "0"
      ]
     },
     "execution_count": 1,
     "metadata": {},
     "output_type": "execute_result"
    }
   ],
   "source": [
    "#include <iostream>\n",
    "#include <string>\n",
    "\n",
    "int main()\n",
    "{\n",
    "    std::cout << \"Enter first name: \";\n",
    "    \n",
    "    std::string name;\n",
    "    std::cin >> name;\n",
    "    \n",
    "    std::cout << \"Hello, \" << name << std::endl;\n",
    "    \n",
    "    return 0;\n",
    "}\n",
    "\n",
    "main()"
   ]
  },
  {
   "cell_type": "code",
   "execution_count": 2,
   "id": "89716bd2",
   "metadata": {},
   "outputs": [
    {
     "name": "stdout",
     "output_type": "stream",
     "text": [
      "Please enter your first name: "
     ]
    },
    {
     "name": "stdin",
     "output_type": "stream",
     "text": [
      " Rodrigo\n"
     ]
    },
    {
     "name": "stdout",
     "output_type": "stream",
     "text": [
      "\n",
      "*******************\n",
      "*                 *\n",
      "* Hello, Rodrigo! *\n",
      "*                 *\n",
      "*******************\n"
     ]
    },
    {
     "data": {
      "text/plain": [
       "0"
      ]
     },
     "execution_count": 2,
     "metadata": {},
     "output_type": "execute_result"
    }
   ],
   "source": [
    "// ask for a person's name, and generate a framed greeting\n",
    "\n",
    "#include <iostream>\n",
    "#include <string>\n",
    "\n",
    "int main()\n",
    "{\n",
    "    std::cout << \"Please enter your first name: \";\n",
    "    std::string name;\n",
    "    std::cin >> name;\n",
    "    \n",
    "    // build the message that we intend to write\n",
    "    const std::string greeting = \"Hello, \" + name + \"!\";\n",
    "    \n",
    "    // build the second and fourth lines of the output\n",
    "    const std::string spaces(greeting.size(), ' ');\n",
    "    /* we define the string spaces that repeats the\n",
    "    character ' ', greeting.size() times */\n",
    "    \n",
    "    const std::string second = \"* \" + spaces + \" *\";\n",
    "    // second is defined as a string so we define other strings to it\n",
    "\n",
    "    // build the first and fifth lines of the output\n",
    "    const std::string first(second.size(), '*');\n",
    "\n",
    "    // write it all\n",
    "    std::cout << std::endl;\n",
    "    std::cout << first << std::endl;\n",
    "    std::cout << second << std::endl;\n",
    "    std::cout << \"* \" << greeting << \" *\" << std::endl;\n",
    "    std::cout << second << std::endl;\n",
    "    std::cout << first << std::endl;\n",
    "      \n",
    "    return 0;\n",
    "}\n",
    "\n",
    "main()"
   ]
  },
  {
   "cell_type": "markdown",
   "id": "95486fb9",
   "metadata": {},
   "source": [
    "#### String types"
   ]
  },
  {
   "cell_type": "markdown",
   "id": "891cbde5",
   "metadata": {},
   "source": [
    "The char is a built-in type that holds characters.  \n",
    "The string types is defined in the standard header <string>. A string contains a sequence of characters.  \n",
    "```c\n",
    "std::string s; //defines a string s.  \n",
    "std::string t = s; //defines a copy t of the string s.  \n",
    "std::string z(n, c); //defines z as a variable of type string that contains n copies of the character c. c must be a char.  \n",
    "os << s; //writes the characters contained in s on the output stream.  \n",
    "is >> s; //reads the characters from the stream denoted by is, writing them into s, overwriting any value of s.  \n",
    "s + t; //the result is  a std::string that contains the characters in s followed by the ones of t.  \n",
    "s.size(); //the number of character in s.\n",
    "```"
   ]
  },
  {
   "cell_type": "markdown",
   "id": "31a95e1c",
   "metadata": {},
   "source": [
    "#### Defining variables"
   ]
  },
  {
   "cell_type": "markdown",
   "id": "54dbe0a5",
   "metadata": {},
   "source": [
    "```c\n",
    "std::string hello = \"Hello\"; //define the variable with an initial value.  \n",
    "std::string stars(100, '\\*'); //defines the variable stars consisting of 100 characters '\\*'.  \n",
    "std::string; //defines variables with an implicit initialization.\n",
    "```"
   ]
  },
  {
   "cell_type": "markdown",
   "id": "de3b3772",
   "metadata": {},
   "source": [
    "Example:"
   ]
  },
  {
   "cell_type": "code",
   "execution_count": 3,
   "id": "84dd2e72",
   "metadata": {},
   "outputs": [
    {
     "name": "stdout",
     "output_type": "stream",
     "text": [
      "Hello world!\n"
     ]
    },
    {
     "data": {
      "text/plain": [
       "0"
      ]
     },
     "execution_count": 3,
     "metadata": {},
     "output_type": "execute_result"
    }
   ],
   "source": [
    "// Demonstrates string arithmetic\n",
    "\n",
    "#include <iostream>\n",
    "\n",
    "int main()\n",
    "{\n",
    "    const std::string hello = \"Hello\";\n",
    "    const std::string world = \"world\";    \n",
    "    const std::string message = hello + ' ' + world + \"!\";\n",
    "    \n",
    "    std::cout << message << std::endl;\n",
    "    \n",
    "    return 0;\n",
    "}\n",
    "main()"
   ]
  },
  {
   "cell_type": "markdown",
   "id": "0f67526e",
   "metadata": {},
   "source": [
    "## Chapter 2: Looping"
   ]
  },
  {
   "cell_type": "code",
   "execution_count": null,
   "id": "e3f7c46e",
   "metadata": {},
   "outputs": [],
   "source": []
  }
 ],
 "metadata": {
  "kernelspec": {
   "display_name": "C++17",
   "language": "C++17",
   "name": "xcpp17"
  },
  "language_info": {
   "codemirror_mode": "text/x-c++src",
   "file_extension": ".cpp",
   "mimetype": "text/x-c++src",
   "name": "c++",
   "version": "17"
  }
 },
 "nbformat": 4,
 "nbformat_minor": 5
}
