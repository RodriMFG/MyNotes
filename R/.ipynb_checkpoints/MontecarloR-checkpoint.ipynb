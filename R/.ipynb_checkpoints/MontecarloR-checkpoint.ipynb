{
 "cells": [
  {
   "cell_type": "markdown",
   "id": "a9a8449b",
   "metadata": {},
   "source": [
    "## Montecarlo Methods in R\n",
    "### Chapter 1: R"
   ]
  },
  {
   "cell_type": "markdown",
   "id": "1d3aba57",
   "metadata": {},
   "source": [
    "#### Packages in R"
   ]
  },
  {
   "cell_type": "code",
   "execution_count": 7,
   "id": "56927a95",
   "metadata": {},
   "outputs": [],
   "source": [
    "#library() function show the available packages\n",
    "library()"
   ]
  },
  {
   "cell_type": "code",
   "execution_count": 8,
   "id": "ac3cc862",
   "metadata": {},
   "outputs": [],
   "source": [
    "#Packages are installed with install.packages(\"package name\")\n",
    "#Packages are called with the library function()\n",
    "library(combinat)\n",
    "library(datasets)\n",
    "library(MASS)\n",
    "library(coda)\n",
    "library(mcsm)"
   ]
  },
  {
   "cell_type": "markdown",
   "id": "46b46fdd",
   "metadata": {},
   "source": [
    "#### Objects"
   ]
  },
  {
   "cell_type": "code",
   "execution_count": 14,
   "id": "22fd313b",
   "metadata": {},
   "outputs": [
    {
     "name": "stdout",
     "output_type": "stream",
     "text": [
      " num [1:4] 10 20 20 10\n"
     ]
    }
   ],
   "source": [
    "#Function c() concatenates objects together, it can concatenate number\n",
    "#as well as other vectors\n",
    "a<-c(10, 20, 20, 10)\n",
    "#Function str() show the structure of an object\n",
    "str(a)\n",
    "rm(a)"
   ]
  },
  {
   "cell_type": "code",
   "execution_count": null,
   "id": "96daf803",
   "metadata": {},
   "outputs": [],
   "source": []
  }
 ],
 "metadata": {
  "kernelspec": {
   "display_name": "R",
   "language": "R",
   "name": "ir"
  },
  "language_info": {
   "codemirror_mode": "r",
   "file_extension": ".r",
   "mimetype": "text/x-r-source",
   "name": "R",
   "pygments_lexer": "r",
   "version": "4.1.3"
  }
 },
 "nbformat": 4,
 "nbformat_minor": 5
}
