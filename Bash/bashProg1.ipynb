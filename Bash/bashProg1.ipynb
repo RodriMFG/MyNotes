{
 "cells": [
  {
   "cell_type": "markdown",
   "id": "d35e1494",
   "metadata": {},
   "source": [
    "## Born Again Shell"
   ]
  },
  {
   "cell_type": "code",
   "execution_count": 1,
   "id": "0402a5a1",
   "metadata": {
    "scrolled": true
   },
   "outputs": [
    {
     "name": "stdout",
     "output_type": "stream",
     "text": [
      "Hello World\n"
     ]
    }
   ],
   "source": [
    "echo 'Hello World'"
   ]
  },
  {
   "cell_type": "code",
   "execution_count": null,
   "id": "7665a414",
   "metadata": {},
   "outputs": [],
   "source": []
  }
 ],
 "metadata": {
  "kernelspec": {
   "display_name": "Bash",
   "language": "bash",
   "name": "bash"
  },
  "language_info": {
   "codemirror_mode": "shell",
   "file_extension": ".sh",
   "mimetype": "text/x-sh",
   "name": "bash"
  }
 },
 "nbformat": 4,
 "nbformat_minor": 5
}
