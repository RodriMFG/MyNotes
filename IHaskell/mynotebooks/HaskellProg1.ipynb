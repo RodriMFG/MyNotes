{
 "cells": [
  {
   "cell_type": "markdown",
   "id": "eab29f09",
   "metadata": {},
   "source": [
    "### Haskell Programming"
   ]
  },
  {
   "cell_type": "code",
   "execution_count": null,
   "id": "fdd2e266",
   "metadata": {},
   "outputs": [],
   "source": [
    "-- after :: we indicate the type\n",
    "sayHello :: String -> IO ()\n",
    "-- now we declare a function with a given variable\n",
    "sayHello x =\n",
    "    putStrLn(\"Hello, \" ++ x ++ \"!\")"
   ]
  },
  {
   "cell_type": "code",
   "execution_count": null,
   "id": "9a416da2",
   "metadata": {},
   "outputs": [
    {
     "data": {
      "text/plain": [
       "Hello, Haskell!"
      ]
     },
     "metadata": {},
     "output_type": "display_data"
    }
   ],
   "source": [
    "sayHello \"Haskell\""
   ]
  },
  {
   "cell_type": "code",
   "execution_count": null,
   "id": "58940c94",
   "metadata": {},
   "outputs": [],
   "source": []
  }
 ],
 "metadata": {
  "kernelspec": {
   "display_name": "Haskell",
   "language": "haskell",
   "name": "haskell"
  },
  "language_info": {
   "codemirror_mode": "ihaskell",
   "file_extension": ".hs",
   "mimetype": "text/x-haskell",
   "name": "haskell",
   "pygments_lexer": "Haskell",
   "version": "8.10.7"
  }
 },
 "nbformat": 4,
 "nbformat_minor": 5
}
