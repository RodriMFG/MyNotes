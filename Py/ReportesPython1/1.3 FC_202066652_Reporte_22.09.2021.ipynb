{
 "cells": [
  {
   "cell_type": "markdown",
   "metadata": {},
   "source": [
    "# Reporte 22/09/2021\n",
    "## Fisica Computacional\n",
    "### Rodrigo Friend"
   ]
  },
  {
   "cell_type": "code",
   "execution_count": 1,
   "metadata": {},
   "outputs": [],
   "source": [
    "import numpy as np\n",
    "import matplotlib.pyplot as plt"
   ]
  },
  {
   "cell_type": "code",
   "execution_count": 2,
   "metadata": {},
   "outputs": [
    {
     "name": "stdout",
     "output_type": "stream",
     "text": [
      " Volume in drive C is W10x64_UEFI\n",
      " Volume Serial Number is EA30-02D1\n",
      "\n",
      " Directory of C:\\Users\\W10x64\\Desktop\n",
      "\n",
      "09/22/2021  04:06 PM    <DIR>          .\n",
      "09/22/2021  04:06 PM    <DIR>          ..\n",
      "09/22/2021  04:04 PM    <DIR>          .ipynb_checkpoints\n",
      "09/08/2021  02:01 AM         2,170,289 2.1-Definiciones.pdf\n",
      "09/15/2021  04:01 PM         5,005,856 2.2-NucleoeImagen.pdf\n",
      "09/20/2021  09:15 PM            36,337 4B67B333E8EBCEC8C375AD6A9B1C0DA0_labels.pdf\n",
      "09/14/2021  03:48 PM    <DIR>          BUAP\n",
      "09/20/2021  02:13 PM    <DIR>          Cálculo Integral\n",
      "09/16/2021  10:14 PM           405,608 Càlculo integral cont. E6  otoño 21.pdf\n",
      "09/13/2021  03:52 PM           380,646 Càlculo integral.  E6   otoño 21.pdf\n",
      "08/15/2021  07:06 PM    <DIR>          Cars\n",
      "09/20/2021  01:24 PM     1,056,640,789 CI 2021-09-20 12-09-18.mkv\n",
      "09/22/2021  01:53 PM     1,616,912,893 CI 2021-09-22 12-10-40.mkv\n",
      "08/25/2021  10:19 AM           112,115 Comp_registro_binstitucionales_otoÃ±o_2021.pdf\n",
      "02/12/2021  01:23 PM            90,602 Ecuaciones SUVAT.jpg\n",
      "09/13/2021  06:06 PM    <DIR>          Espacios Vectoriales\n",
      "09/22/2021  04:06 PM               719 FC_202066652_Reporte_22.09.2021.ipynb\n",
      "09/20/2021  10:54 AM       444,955,592 FE 2021-09-20 10-10-45.mkv\n",
      "09/09/2021  06:03 PM    <DIR>          Física Computacional\n",
      "09/20/2021  10:12 AM    <DIR>          Física Experimental I\n",
      "08/25/2021  11:04 AM           198,577 Formato de Reporte de Laboratorio de Fisica Experimental 1 O2021.docx\n",
      "08/25/2021  08:25 PM    <DIR>          Games\n",
      "08/09/2021  01:25 AM       189,845,194 How To Modify Datsun 510 610 240Z Engines & Chassis.pdf\n",
      "04/21/2021  08:37 AM           111,358 identidades-trigonometricas.jpeg\n",
      "09/14/2021  05:57 PM            83,955 James Bond Chr.jpg\n",
      "08/03/2021  08:44 PM    <DIR>          Latex\n",
      "09/14/2020  05:49 PM         1,054,133 Libro Matemáticas Básicas.pdf\n",
      "03/08/2021  08:37 PM         9,706,946 MathMethods_riley_hobson_bence.pdf\n",
      "09/21/2021  04:24 PM    <DIR>          Mecánica II\n",
      "09/03/2021  02:16 PM            61,232 Momentos de inercia.jpg\n",
      "08/11/2021  10:13 AM             1,994 Origin 8 - Shortcut.lnk\n",
      "08/10/2021  11:28 AM           196,270 Poliza2021BUAP.pdf\n",
      "08/06/2021  04:08 PM           868,361 Programa Mecanica II Otoño 2021.pdf\n",
      "03/19/2021  12:49 PM           104,582 Propiedades Derivadas.png\n",
      "03/01/2021  11:23 PM             1,985 Python 3.9 - Shortcut.lnk\n",
      "08/23/2021  04:07 PM    <DIR>          Rodrigo\n",
      "08/31/2021  03:10 PM            44,036 SUVAT Rot.jpg\n",
      "09/20/2021  05:33 PM            12,586 temperaturas.csv\n",
      "08/02/2021  11:12 PM             1,479 Ubuntu - Shortcut.lnk\n",
      "01/22/2021  01:51 PM               749 Videos - Shortcut.lnk\n",
      "01/18/2021  09:06 AM             1,945 Zoom.lnk\n",
      "              28 File(s)  3,329,006,828 bytes\n",
      "              13 Dir(s)  260,157,325,312 bytes free\n"
     ]
    }
   ],
   "source": [
    "%ls"
   ]
  },
  {
   "cell_type": "code",
   "execution_count": 14,
   "metadata": {},
   "outputs": [],
   "source": [
    "datos = np.loadtxt(\"temperaturas.csv\", usecols=(1, 2, 3),skiprows=1,\\\n",
    "                   delimiter=',')"
   ]
  },
  {
   "cell_type": "code",
   "execution_count": 15,
   "metadata": {},
   "outputs": [
    {
     "data": {
      "text/plain": [
       "array([[ 2.0130101e+07,  4.4000000e+01, -3.3000000e+01],\n",
       "       [ 2.0130102e+07,  6.0000000e+00, -5.6000000e+01],\n",
       "       [ 2.0130103e+07,  0.0000000e+00, -4.4000000e+01],\n",
       "       ...,\n",
       "       [ 2.0131230e+07,  7.2000000e+01, -4.9000000e+01],\n",
       "       [ 2.0131231e+07,  0.0000000e+00, -6.0000000e+01],\n",
       "       [ 2.0140101e+07,  6.0000000e+00, -4.3000000e+01]])"
      ]
     },
     "execution_count": 15,
     "metadata": {},
     "output_type": "execute_result"
    }
   ],
   "source": [
    "datos"
   ]
  },
  {
   "cell_type": "code",
   "execution_count": 41,
   "metadata": {},
   "outputs": [
    {
     "data": {
      "text/plain": [
       "array([  0,   1,   2,   3,   4,   5,   6,   7,   8,   9,  10,  11,  12,\n",
       "        13,  14,  15,  16,  17,  18,  19,  20,  21,  22,  23,  24,  25,\n",
       "        26,  27,  28,  29,  30,  31,  32,  33,  34,  35,  36,  37,  38,\n",
       "        39,  40,  41,  42,  43,  44,  45,  46,  47,  48,  49,  50,  51,\n",
       "        52,  53,  54,  55,  56,  57,  58,  59,  60,  61,  62,  63,  64,\n",
       "        65,  66,  67,  68,  69,  70,  71,  72,  73,  74,  75,  76,  77,\n",
       "        78,  79,  80,  81,  82,  83,  84,  85,  86,  87,  88,  89,  90,\n",
       "        91,  92,  93,  94,  95,  96,  97,  98,  99, 100, 101, 102, 103,\n",
       "       104, 105, 106, 107, 108, 109, 110, 111, 112, 113, 114, 115, 116,\n",
       "       117, 118, 119, 120, 121, 122, 123, 124, 125, 126, 127, 128, 129,\n",
       "       130, 131, 132, 133, 134, 135, 136, 137, 138, 139, 140, 141, 142,\n",
       "       143, 144, 145, 146, 147, 148, 149, 150, 151, 152, 153, 154, 155,\n",
       "       156, 157, 158, 159, 160, 161, 162, 163, 164, 165, 166, 167, 168,\n",
       "       169, 170, 171, 172, 173, 174, 175, 176, 177, 178, 179, 180, 181,\n",
       "       182, 183, 184, 185, 186, 187, 188, 189, 190, 191, 192, 193, 194,\n",
       "       195, 196, 197, 198, 199, 200, 201, 202, 203, 204, 205, 206, 207,\n",
       "       208, 209, 210, 211, 212, 213, 214, 215, 216, 217, 218, 219, 220,\n",
       "       221, 222, 223, 224, 225, 226, 227, 228, 229, 230, 231, 232, 233,\n",
       "       234, 235, 236, 237, 238, 239, 240, 241, 242, 243, 244, 245, 246,\n",
       "       247, 248, 249, 250, 251, 252, 253, 254, 255, 256, 257, 258, 259,\n",
       "       260, 261, 262, 263, 264, 265, 266, 267, 268, 269, 270, 271, 272,\n",
       "       273, 274, 275, 276, 277, 278, 279, 280, 281, 282, 283, 284, 285,\n",
       "       286, 287, 288, 289, 290, 291, 292, 293, 294, 295, 296, 297, 298,\n",
       "       299, 300, 301, 302, 303, 304, 305, 306, 307, 308, 309, 310, 311,\n",
       "       312, 313, 314, 315, 316, 317, 318, 319, 320, 321, 322, 323, 324,\n",
       "       325, 326, 327, 328, 329, 330, 331, 332, 333, 334, 335, 336, 337,\n",
       "       338, 339, 340, 341, 342, 343, 344, 345, 346, 347, 348, 349, 350,\n",
       "       351, 352, 353, 354, 355, 356, 357, 358, 359, 360, 361, 362, 363,\n",
       "       364, 365])"
      ]
     },
     "execution_count": 41,
     "metadata": {},
     "output_type": "execute_result"
    }
   ],
   "source": [
    "n = np.arange(len(datos))\n",
    "n"
   ]
  },
  {
   "cell_type": "code",
   "execution_count": 44,
   "metadata": {},
   "outputs": [],
   "source": [
    "x = datos[:, 0]\n",
    "TM = datos[:, 1]\n",
    "Tm = datos[:, 2]"
   ]
  },
  {
   "cell_type": "code",
   "execution_count": 45,
   "metadata": {},
   "outputs": [
    {
     "data": {
      "text/plain": [
       "array([  5.5, -25. , -22. ,   8.5,  28. ,  44.5,  50. ,  53. ,  66.5,\n",
       "        63.5,  53. ,  69.5,  80.5,  83. ,  25. ,  14. ,  39. , -11. ,\n",
       "        47.5,  53. , -16.5, -67. , -92. , -83.5, -75. , -61. , -30.5,\n",
       "         2.5,  58. ,  94.5,  75. , -25. , -44.5, -27.5, -30.5, -11. ,\n",
       "        11. , -16.5,  -8.5, -30.5, -28. ,  41.5,  44.5,  36.5,  42. ,\n",
       "        78. ,  22. , -39. , -33. ,  50. ,  -3. , -16.5,  -3. ,  39. ,\n",
       "        47. ,  36. ,  42. ,  52.5,  72.5,  47. ,  19. ,  13.5,  14. ,\n",
       "        44. ,  44.5,  19.5,  25. ,  72.5,  61. ,  83. , 100. ,  72. ,\n",
       "        16.5,  36. ,  25. ,   8. ,  -2.5,  33.5,  36. ,  16.5,  14. ,\n",
       "        39. ,  44.5,  33. ,  72.5,  69.5,  67. ,  86. ,  97. ,  94.5,\n",
       "        97.5,  33.5,  42. ,  61.5, 114. ,  64. ,  86. , 167. , 192. ,\n",
       "       180.5, 119.5,  66.5,  97. , 108.5, 108.5, 127.5, 172.5, 128. ,\n",
       "       172.5, 108.5,  78. ,  89. ,  83.5, 136.5, 133.5, 147. , 153. ,\n",
       "       156. , 125. , 153. , 144.5, 158. , 141.5, 147.5, 128. , 142. ,\n",
       "       172. , 150. , 161. , 205.5, 186. , 158.5, 108. , 108.5, 158.5,\n",
       "       214. , 183. , 158. , 139. , 202.5, 250. , 203. , 222.5, 127.5,\n",
       "        97. , 139. , 167. , 166.5, 211. , 272. , 280.5, 275. , 258.5,\n",
       "       222.5, 189. , 188.5, 180.5, 161. , 194.5, 219.5, 189. , 222.5,\n",
       "       213.5, 167. , 169.5, 214. , 225. , 247.5, 233.5, 200. , 217. ,\n",
       "       228. , 236. , 261. , 283. , 278. , 263.5, 264. , 261. , 250. ,\n",
       "       264. , 236. , 250. , 255.5, 272.5, 283. , 294.5, 294.5, 272.5,\n",
       "       272. , 266.5, 266.5, 225. , 233. , 277.5, 300. , 297. , 311. ,\n",
       "       319.5, 319.5, 305.5, 280.5, 269.5, 267. , 241.5, 189. , 233. ,\n",
       "       244.5, 233.5, 250. , 238.5, 238.5, 216.5, 238.5, 228. , 228. ,\n",
       "       211.5, 228. , 239. , 241.5, 263.5, 247. , 227.5, 244.5, 225. ,\n",
       "       197. , 203. , 228. , 233.5, 222. , 225. , 255.5, 272. , 236.5,\n",
       "       247.5, 225. , 230.5, 244.5, 261.5, 258.5, 242. , 252.5, 264. ,\n",
       "       264. , 255.5, 239. , 230.5, 222.5, 180.5, 208.5, 230.5, 183.5,\n",
       "       253. , 303. , 258.5, 200. , 158. , 167. , 180.5, 141.5, 164. ,\n",
       "       192. , 208.5, 205.5, 164. , 144.5, 155.5, 169.5, 180.5, 172.5,\n",
       "       180.5, 180.5, 186. , 214. , 230.5, 214. , 244.5, 211. , 197. ,\n",
       "       200. , 158. , 142. , 152.5, 178. , 189. , 158. , 150. , 169.5,\n",
       "       163.5, 194.5, 164. , 144.5, 136. , 144.5, 150. , 100. ,  86. ,\n",
       "        80.5,  89. , 111. , 111. , 100. , 119.5, 153. , 180.5, 164. ,\n",
       "        78. ,  47.5,  89. , 127.5, 122.5,  72. ,  66.5, 114. ,  89. ,\n",
       "        53. ,  11.5,  58.5, 103. , 114. , 131. , 144.5,  64. ,  33.5,\n",
       "        64. , 122.5,  58.5, -29.5, -16. ,  44.5,  92. ,   3.5,  11.5,\n",
       "         0.5,  58. ,  72. ,  75. ,  80.5, 122.5,  97.5,  25. ,  -5. ,\n",
       "        17. ,   9. , -10.5, -29.5, -16. , -22. ,  17. , -16. , -21.5,\n",
       "       -10.5,  36.5,  83.5, 144.5, 189. , 117. ,  12. , -38. ,   6. ,\n",
       "        19.5,  75. ,  69.5,  11.5, -30. , -18.5])"
      ]
     },
     "execution_count": 45,
     "metadata": {},
     "output_type": "execute_result"
    }
   ],
   "source": [
    "Tp = (Tm + TM)/2\n",
    "Tp"
   ]
  },
  {
   "cell_type": "code",
   "execution_count": 69,
   "metadata": {},
   "outputs": [
    {
     "data": {
      "text/plain": [
       "<matplotlib.legend.Legend at 0x1a355809880>"
      ]
     },
     "execution_count": 69,
     "metadata": {},
     "output_type": "execute_result"
    },
    {
     "data": {
      "image/png": "[encoded data removed]",
      "text/plain": [
       "<Figure size 432x288 with 1 Axes>"
      ]
     },
     "metadata": {
      "needs_background": "light"
     },
     "output_type": "display_data"
    }
   ],
   "source": [
    "fig,axes = plt.subplots()\n",
    "\n",
    "axes.plot(n, Tp, 'black', label=\"T Media\")\n",
    "axes.plot(n, TM, 'r', label=\"T Max\")\n",
    "axes.plot(n, Tm, 'b', label=\"T min\")\n",
    "axes.legend()"
   ]
  },
  {
   "cell_type": "code",
   "execution_count": 81,
   "metadata": {},
   "outputs": [
    {
     "data": {
      "image/png": "[encoded data removed]",
      "text/plain": [
       "<Figure size 432x288 with 1 Axes>"
      ]
     },
     "metadata": {
      "needs_background": "light"
     },
     "output_type": "display_data"
    }
   ],
   "source": [
    "plt.hist(Tp, bins=50, color='c')\n",
    "plt.show()"
   ]
  },
  {
   "cell_type": "code",
   "execution_count": 90,
   "metadata": {},
   "outputs": [
    {
     "data": {
      "image/png": "[encoded data removed]",
      "text/plain": [
       "<Figure size 432x288 with 1 Axes>"
      ]
     },
     "metadata": {
      "needs_background": "light"
     },
     "output_type": "display_data"
    }
   ],
   "source": [
    "plt.hist(Tm, bins=50, color='y')\n",
    "plt.show()"
   ]
  },
  {
   "cell_type": "code",
   "execution_count": 91,
   "metadata": {},
   "outputs": [
    {
     "data": {
      "image/png": "[encoded data removed]",
      "text/plain": [
       "<Figure size 432x288 with 1 Axes>"
      ]
     },
     "metadata": {
      "needs_background": "light"
     },
     "output_type": "display_data"
    }
   ],
   "source": [
    "plt.hist(TM, bins=50, color='orange')\n",
    "plt.show()"
   ]
  },
  {
   "cell_type": "code",
   "execution_count": 92,
   "metadata": {},
   "outputs": [],
   "source": [
    "import pandas as pd"
   ]
  },
  {
   "cell_type": "code",
   "execution_count": 96,
   "metadata": {},
   "outputs": [
    {
     "data": {
      "text/html": [
       "<div>\n",
       "<style scoped>\n",
       "    .dataframe tbody tr th:only-of-type {\n",
       "        vertical-align: middle;\n",
       "    }\n",
       "\n",
       "    .dataframe tbody tr th {\n",
       "        vertical-align: top;\n",
       "    }\n",
       "\n",
       "    .dataframe thead th {\n",
       "        text-align: right;\n",
       "    }\n",
       "</style>\n",
       "<table border=\"1\" class=\"dataframe\">\n",
       "  <thead>\n",
       "    <tr style=\"text-align: right;\">\n",
       "      <th></th>\n",
       "      <th>STATION</th>\n",
       "      <th>DATE</th>\n",
       "      <th>TMAX</th>\n",
       "      <th>TMIN</th>\n",
       "    </tr>\n",
       "  </thead>\n",
       "  <tbody>\n",
       "    <tr>\n",
       "      <th>0</th>\n",
       "      <td>GHCND:USW00094728</td>\n",
       "      <td>20130101</td>\n",
       "      <td>44</td>\n",
       "      <td>-33</td>\n",
       "    </tr>\n",
       "    <tr>\n",
       "      <th>1</th>\n",
       "      <td>GHCND:USW00094728</td>\n",
       "      <td>20130102</td>\n",
       "      <td>6</td>\n",
       "      <td>-56</td>\n",
       "    </tr>\n",
       "    <tr>\n",
       "      <th>2</th>\n",
       "      <td>GHCND:USW00094728</td>\n",
       "      <td>20130103</td>\n",
       "      <td>0</td>\n",
       "      <td>-44</td>\n",
       "    </tr>\n",
       "    <tr>\n",
       "      <th>3</th>\n",
       "      <td>GHCND:USW00094728</td>\n",
       "      <td>20130104</td>\n",
       "      <td>28</td>\n",
       "      <td>-11</td>\n",
       "    </tr>\n",
       "    <tr>\n",
       "      <th>4</th>\n",
       "      <td>GHCND:USW00094728</td>\n",
       "      <td>20130105</td>\n",
       "      <td>56</td>\n",
       "      <td>0</td>\n",
       "    </tr>\n",
       "    <tr>\n",
       "      <th>...</th>\n",
       "      <td>...</td>\n",
       "      <td>...</td>\n",
       "      <td>...</td>\n",
       "      <td>...</td>\n",
       "    </tr>\n",
       "    <tr>\n",
       "      <th>361</th>\n",
       "      <td>GHCND:USW00094728</td>\n",
       "      <td>20131228</td>\n",
       "      <td>128</td>\n",
       "      <td>22</td>\n",
       "    </tr>\n",
       "    <tr>\n",
       "      <th>362</th>\n",
       "      <td>GHCND:USW00094728</td>\n",
       "      <td>20131229</td>\n",
       "      <td>89</td>\n",
       "      <td>50</td>\n",
       "    </tr>\n",
       "    <tr>\n",
       "      <th>363</th>\n",
       "      <td>GHCND:USW00094728</td>\n",
       "      <td>20131230</td>\n",
       "      <td>72</td>\n",
       "      <td>-49</td>\n",
       "    </tr>\n",
       "    <tr>\n",
       "      <th>364</th>\n",
       "      <td>GHCND:USW00094728</td>\n",
       "      <td>20131231</td>\n",
       "      <td>0</td>\n",
       "      <td>-60</td>\n",
       "    </tr>\n",
       "    <tr>\n",
       "      <th>365</th>\n",
       "      <td>GHCND:USW00094728</td>\n",
       "      <td>20140101</td>\n",
       "      <td>6</td>\n",
       "      <td>-43</td>\n",
       "    </tr>\n",
       "  </tbody>\n",
       "</table>\n",
       "<p>366 rows × 4 columns</p>\n",
       "</div>"
      ],
      "text/plain": [
       "               STATION      DATE  TMAX  TMIN\n",
       "0    GHCND:USW00094728  20130101    44   -33\n",
       "1    GHCND:USW00094728  20130102     6   -56\n",
       "2    GHCND:USW00094728  20130103     0   -44\n",
       "3    GHCND:USW00094728  20130104    28   -11\n",
       "4    GHCND:USW00094728  20130105    56     0\n",
       "..                 ...       ...   ...   ...\n",
       "361  GHCND:USW00094728  20131228   128    22\n",
       "362  GHCND:USW00094728  20131229    89    50\n",
       "363  GHCND:USW00094728  20131230    72   -49\n",
       "364  GHCND:USW00094728  20131231     0   -60\n",
       "365  GHCND:USW00094728  20140101     6   -43\n",
       "\n",
       "[366 rows x 4 columns]"
      ]
     },
     "execution_count": 96,
     "metadata": {},
     "output_type": "execute_result"
    }
   ],
   "source": [
    "pandatos = pd.read_csv(\"temperaturas.csv\")\n",
    "pandatos"
   ]
  },
  {
   "cell_type": "code",
   "execution_count": 111,
   "metadata": {},
   "outputs": [
    {
     "data": {
      "text/html": [
       "<div>\n",
       "<style scoped>\n",
       "    .dataframe tbody tr th:only-of-type {\n",
       "        vertical-align: middle;\n",
       "    }\n",
       "\n",
       "    .dataframe tbody tr th {\n",
       "        vertical-align: top;\n",
       "    }\n",
       "\n",
       "    .dataframe thead th {\n",
       "        text-align: right;\n",
       "    }\n",
       "</style>\n",
       "<table border=\"1\" class=\"dataframe\">\n",
       "  <thead>\n",
       "    <tr style=\"text-align: right;\">\n",
       "      <th></th>\n",
       "      <th>DATE</th>\n",
       "      <th>TMAX</th>\n",
       "      <th>TMIN</th>\n",
       "    </tr>\n",
       "  </thead>\n",
       "  <tbody>\n",
       "    <tr>\n",
       "      <th>0</th>\n",
       "      <td>20130101</td>\n",
       "      <td>44</td>\n",
       "      <td>-33</td>\n",
       "    </tr>\n",
       "    <tr>\n",
       "      <th>1</th>\n",
       "      <td>20130102</td>\n",
       "      <td>6</td>\n",
       "      <td>-56</td>\n",
       "    </tr>\n",
       "    <tr>\n",
       "      <th>2</th>\n",
       "      <td>20130103</td>\n",
       "      <td>0</td>\n",
       "      <td>-44</td>\n",
       "    </tr>\n",
       "    <tr>\n",
       "      <th>3</th>\n",
       "      <td>20130104</td>\n",
       "      <td>28</td>\n",
       "      <td>-11</td>\n",
       "    </tr>\n",
       "    <tr>\n",
       "      <th>4</th>\n",
       "      <td>20130105</td>\n",
       "      <td>56</td>\n",
       "      <td>0</td>\n",
       "    </tr>\n",
       "  </tbody>\n",
       "</table>\n",
       "</div>"
      ],
      "text/plain": [
       "       DATE  TMAX  TMIN\n",
       "0  20130101    44   -33\n",
       "1  20130102     6   -56\n",
       "2  20130103     0   -44\n",
       "3  20130104    28   -11\n",
       "4  20130105    56     0"
      ]
     },
     "execution_count": 111,
     "metadata": {},
     "output_type": "execute_result"
    }
   ],
   "source": [
    "pandatos_spec = pd.read_csv(\"temperaturas.csv\", usecols=['DATE',\\\n",
    "                                                        'TMAX','TMIN'])\n",
    "pandatos_spec.head()"
   ]
  },
  {
   "cell_type": "code",
   "execution_count": 112,
   "metadata": {
    "scrolled": true
   },
   "outputs": [
    {
     "data": {
      "text/html": [
       "<div>\n",
       "<style scoped>\n",
       "    .dataframe tbody tr th:only-of-type {\n",
       "        vertical-align: middle;\n",
       "    }\n",
       "\n",
       "    .dataframe tbody tr th {\n",
       "        vertical-align: top;\n",
       "    }\n",
       "\n",
       "    .dataframe thead th {\n",
       "        text-align: right;\n",
       "    }\n",
       "</style>\n",
       "<table border=\"1\" class=\"dataframe\">\n",
       "  <thead>\n",
       "    <tr style=\"text-align: right;\">\n",
       "      <th></th>\n",
       "      <th>DATE</th>\n",
       "      <th>TMAX</th>\n",
       "      <th>TMIN</th>\n",
       "    </tr>\n",
       "  </thead>\n",
       "  <tbody>\n",
       "    <tr>\n",
       "      <th>count</th>\n",
       "      <td>3.660000e+02</td>\n",
       "      <td>366.000000</td>\n",
       "      <td>366.000000</td>\n",
       "    </tr>\n",
       "    <tr>\n",
       "      <th>mean</th>\n",
       "      <td>2.013069e+07</td>\n",
       "      <td>168.333333</td>\n",
       "      <td>91.516393</td>\n",
       "    </tr>\n",
       "    <tr>\n",
       "      <th>std</th>\n",
       "      <td>6.017711e+02</td>\n",
       "      <td>102.326891</td>\n",
       "      <td>93.738976</td>\n",
       "    </tr>\n",
       "    <tr>\n",
       "      <th>min</th>\n",
       "      <td>2.013010e+07</td>\n",
       "      <td>-67.000000</td>\n",
       "      <td>-117.000000</td>\n",
       "    </tr>\n",
       "    <tr>\n",
       "      <th>25%</th>\n",
       "      <td>2.013040e+07</td>\n",
       "      <td>83.000000</td>\n",
       "      <td>12.500000</td>\n",
       "    </tr>\n",
       "    <tr>\n",
       "      <th>50%</th>\n",
       "      <td>2.013070e+07</td>\n",
       "      <td>178.000000</td>\n",
       "      <td>94.000000</td>\n",
       "    </tr>\n",
       "    <tr>\n",
       "      <th>75%</th>\n",
       "      <td>2.013100e+07</td>\n",
       "      <td>259.750000</td>\n",
       "      <td>178.000000</td>\n",
       "    </tr>\n",
       "    <tr>\n",
       "      <th>max</th>\n",
       "      <td>2.014010e+07</td>\n",
       "      <td>367.000000</td>\n",
       "      <td>283.000000</td>\n",
       "    </tr>\n",
       "  </tbody>\n",
       "</table>\n",
       "</div>"
      ],
      "text/plain": [
       "               DATE        TMAX        TMIN\n",
       "count  3.660000e+02  366.000000  366.000000\n",
       "mean   2.013069e+07  168.333333   91.516393\n",
       "std    6.017711e+02  102.326891   93.738976\n",
       "min    2.013010e+07  -67.000000 -117.000000\n",
       "25%    2.013040e+07   83.000000   12.500000\n",
       "50%    2.013070e+07  178.000000   94.000000\n",
       "75%    2.013100e+07  259.750000  178.000000\n",
       "max    2.014010e+07  367.000000  283.000000"
      ]
     },
     "execution_count": 112,
     "metadata": {},
     "output_type": "execute_result"
    }
   ],
   "source": [
    "pandatos_spec.describe()"
   ]
  },
  {
   "cell_type": "code",
   "execution_count": 113,
   "metadata": {},
   "outputs": [
    {
     "data": {
      "text/html": [
       "<div>\n",
       "<style scoped>\n",
       "    .dataframe tbody tr th:only-of-type {\n",
       "        vertical-align: middle;\n",
       "    }\n",
       "\n",
       "    .dataframe tbody tr th {\n",
       "        vertical-align: top;\n",
       "    }\n",
       "\n",
       "    .dataframe thead th {\n",
       "        text-align: right;\n",
       "    }\n",
       "</style>\n",
       "<table border=\"1\" class=\"dataframe\">\n",
       "  <thead>\n",
       "    <tr style=\"text-align: right;\">\n",
       "      <th></th>\n",
       "      <th>DATE</th>\n",
       "      <th>TMAX</th>\n",
       "      <th>TMIN</th>\n",
       "    </tr>\n",
       "  </thead>\n",
       "  <tbody>\n",
       "    <tr>\n",
       "      <th>1</th>\n",
       "      <td>20130102</td>\n",
       "      <td>6</td>\n",
       "      <td>-56</td>\n",
       "    </tr>\n",
       "    <tr>\n",
       "      <th>341</th>\n",
       "      <td>20131208</td>\n",
       "      <td>6</td>\n",
       "      <td>-16</td>\n",
       "    </tr>\n",
       "    <tr>\n",
       "      <th>344</th>\n",
       "      <td>20131211</td>\n",
       "      <td>6</td>\n",
       "      <td>-27</td>\n",
       "    </tr>\n",
       "    <tr>\n",
       "      <th>349</th>\n",
       "      <td>20131216</td>\n",
       "      <td>6</td>\n",
       "      <td>-38</td>\n",
       "    </tr>\n",
       "    <tr>\n",
       "      <th>365</th>\n",
       "      <td>20140101</td>\n",
       "      <td>6</td>\n",
       "      <td>-43</td>\n",
       "    </tr>\n",
       "  </tbody>\n",
       "</table>\n",
       "</div>"
      ],
      "text/plain": [
       "         DATE  TMAX  TMIN\n",
       "1    20130102     6   -56\n",
       "341  20131208     6   -16\n",
       "344  20131211     6   -27\n",
       "349  20131216     6   -38\n",
       "365  20140101     6   -43"
      ]
     },
     "execution_count": 113,
     "metadata": {},
     "output_type": "execute_result"
    }
   ],
   "source": [
    "A = pandatos_spec.query('0 < TMAX < 10')\n",
    "A.head()"
   ]
  },
  {
   "cell_type": "code",
   "execution_count": 114,
   "metadata": {},
   "outputs": [
    {
     "data": {
      "text/plain": [
       "(5, 3)"
      ]
     },
     "execution_count": 114,
     "metadata": {},
     "output_type": "execute_result"
    }
   ],
   "source": [
    "A.shape"
   ]
  },
  {
   "cell_type": "code",
   "execution_count": 118,
   "metadata": {},
   "outputs": [
    {
     "data": {
      "text/plain": [
       "<AxesSubplot:ylabel='Frequency'>"
      ]
     },
     "execution_count": 118,
     "metadata": {},
     "output_type": "execute_result"
    },
    {
     "data": {
      "image/png": "[encoded data removed]",
      "text/plain": [
       "<Figure size 576x432 with 1 Axes>"
      ]
     },
     "metadata": {
      "needs_background": "light"
     },
     "output_type": "display_data"
    }
   ],
   "source": [
    "pandatos_spec['TMIN'].plot(kind='hist', figsize=(8,6))"
   ]
  },
  {
   "cell_type": "code",
   "execution_count": 119,
   "metadata": {
    "scrolled": false
   },
   "outputs": [
    {
     "data": {
      "text/plain": [
       "<AxesSubplot:ylabel='Frequency'>"
      ]
     },
     "execution_count": 119,
     "metadata": {},
     "output_type": "execute_result"
    },
    {
     "data": {
      "image/png": "[encoded data removed]",
      "text/plain": [
       "<Figure size 576x432 with 1 Axes>"
      ]
     },
     "metadata": {
      "needs_background": "light"
     },
     "output_type": "display_data"
    }
   ],
   "source": [
    "pandatos_spec['TMAX'].plot(kind='hist', figsize=(8,6))"
   ]
  },
  {
   "cell_type": "markdown",
   "metadata": {},
   "source": [
    "#### SciPy"
   ]
  },
  {
   "attachments": {
    "image.png": {
     "image/png": "[encoded data removed]"
    }
   },
   "cell_type": "markdown",
   "metadata": {},
   "source": [
    "![image.png](attachment:image.png)"
   ]
  },
  {
   "cell_type": "markdown",
   "metadata": {},
   "source": [
    "Integracion"
   ]
  },
  {
   "cell_type": "code",
   "execution_count": 123,
   "metadata": {},
   "outputs": [],
   "source": [
    "from scipy import integrate"
   ]
  },
  {
   "cell_type": "code",
   "execution_count": 124,
   "metadata": {},
   "outputs": [],
   "source": [
    "def f(x):\n",
    "    return np.exp(- x**2)"
   ]
  },
  {
   "cell_type": "code",
   "execution_count": 125,
   "metadata": {},
   "outputs": [
    {
     "data": {
      "text/plain": [
       "(0.8862269254513955, 2.3183115139669666e-14)"
      ]
     },
     "execution_count": 125,
     "metadata": {},
     "output_type": "execute_result"
    }
   ],
   "source": [
    "integrate.quad(f, 0, 5) #Se devuelve el resultado y una estimacion del error"
   ]
  },
  {
   "cell_type": "code",
   "execution_count": 126,
   "metadata": {},
   "outputs": [],
   "source": [
    "def f(x, A, B):\n",
    "    return A * np.exp(-B * x**2)"
   ]
  },
  {
   "cell_type": "code",
   "execution_count": 128,
   "metadata": {},
   "outputs": [
    {
     "data": {
      "text/plain": [
       "(0.8862269254513955, 2.3183115139669666e-14)"
      ]
     },
     "execution_count": 128,
     "metadata": {},
     "output_type": "execute_result"
    }
   ],
   "source": [
    "integrate.quad(f, 0, 5, args=(1, 1))"
   ]
  },
  {
   "cell_type": "markdown",
   "metadata": {},
   "source": [
    "#### SymPy"
   ]
  },
  {
   "attachments": {
    "image.png": {
     "image/png": "[encoded data removed]"
    }
   },
   "cell_type": "markdown",
   "metadata": {},
   "source": [
    "![image.png](attachment:image.png)"
   ]
  },
  {
   "cell_type": "code",
   "execution_count": 129,
   "metadata": {},
   "outputs": [],
   "source": [
    "from sympy import*"
   ]
  },
  {
   "cell_type": "code",
   "execution_count": 134,
   "metadata": {},
   "outputs": [],
   "source": [
    "x=Symbol('x')\n",
    "a,b=symbols('a,b')"
   ]
  },
  {
   "cell_type": "code",
   "execution_count": 135,
   "metadata": {},
   "outputs": [
    {
     "data": {
      "text/latex": [
       "$\\displaystyle 5 x$"
      ],
      "text/plain": [
       "5*x"
      ]
     },
     "execution_count": 135,
     "metadata": {},
     "output_type": "execute_result"
    }
   ],
   "source": [
    "3*x + 2*x"
   ]
  },
  {
   "cell_type": "code",
   "execution_count": 139,
   "metadata": {},
   "outputs": [
    {
     "data": {
      "text/latex": [
       "$\\displaystyle 10 x$"
      ],
      "text/plain": [
       "10*x"
      ]
     },
     "execution_count": 139,
     "metadata": {},
     "output_type": "execute_result"
    }
   ],
   "source": [
    "v=[2*x,3*x,5*x]\n",
    "np.sum(v)"
   ]
  },
  {
   "cell_type": "code",
   "execution_count": 140,
   "metadata": {},
   "outputs": [],
   "source": [
    "g=(2+x)**2"
   ]
  },
  {
   "cell_type": "code",
   "execution_count": 142,
   "metadata": {},
   "outputs": [
    {
     "data": {
      "text/latex": [
       "$\\displaystyle x^{2} + 4 x + 4$"
      ],
      "text/plain": [
       "x**2 + 4*x + 4"
      ]
     },
     "execution_count": 142,
     "metadata": {},
     "output_type": "execute_result"
    }
   ],
   "source": [
    "u=expand(g)\n",
    "u"
   ]
  },
  {
   "cell_type": "code",
   "execution_count": 143,
   "metadata": {},
   "outputs": [
    {
     "data": {
      "text/latex": [
       "$\\displaystyle \\left(x + 2\\right)^{2}$"
      ],
      "text/plain": [
       "(x + 2)**2"
      ]
     },
     "execution_count": 143,
     "metadata": {},
     "output_type": "execute_result"
    }
   ],
   "source": [
    "factor(u)"
   ]
  },
  {
   "cell_type": "code",
   "execution_count": 144,
   "metadata": {},
   "outputs": [],
   "source": [
    "u=Symbol('u')"
   ]
  },
  {
   "cell_type": "code",
   "execution_count": 146,
   "metadata": {},
   "outputs": [
    {
     "data": {
      "text/latex": [
       "$\\displaystyle 0.93204$"
      ],
      "text/plain": [
       "0.93204"
      ]
     },
     "execution_count": 146,
     "metadata": {},
     "output_type": "execute_result"
    }
   ],
   "source": [
    "v=sin(u) #Sustituir una variable\n",
    "v.subs(u,1.2).evalf(5) #No. de digitos"
   ]
  },
  {
   "cell_type": "code",
   "execution_count": 147,
   "metadata": {},
   "outputs": [
    {
     "data": {
      "text/latex": [
       "$\\displaystyle 10 + 2 e^{2}$"
      ],
      "text/plain": [
       "10 + 2*exp(2)"
      ]
     },
     "execution_count": 147,
     "metadata": {},
     "output_type": "execute_result"
    }
   ],
   "source": [
    "x,y=symbols('x,y')\n",
    "f=2*exp(x)+3*y+1\n",
    "r=f.subs(x,2).subs(y,3)\n",
    "r"
   ]
  },
  {
   "cell_type": "code",
   "execution_count": 148,
   "metadata": {},
   "outputs": [
    {
     "data": {
      "text/latex": [
       "$\\displaystyle 24.778112$"
      ],
      "text/plain": [
       "24.778112"
      ]
     },
     "execution_count": 148,
     "metadata": {},
     "output_type": "execute_result"
    }
   ],
   "source": [
    "r.evalf(8)"
   ]
  },
  {
   "cell_type": "code",
   "execution_count": 151,
   "metadata": {},
   "outputs": [
    {
     "data": {
      "text/latex": [
       "$\\displaystyle 2 e^{x}$"
      ],
      "text/plain": [
       "2*exp(x)"
      ]
     },
     "execution_count": 151,
     "metadata": {},
     "output_type": "execute_result"
    }
   ],
   "source": [
    "diff(f,x) #Derivar respecto a x"
   ]
  },
  {
   "cell_type": "code",
   "execution_count": 150,
   "metadata": {},
   "outputs": [
    {
     "data": {
      "text/latex": [
       "$\\displaystyle 3$"
      ],
      "text/plain": [
       "3"
      ]
     },
     "execution_count": 150,
     "metadata": {},
     "output_type": "execute_result"
    }
   ],
   "source": [
    "diff(f,y)"
   ]
  },
  {
   "cell_type": "code",
   "execution_count": 152,
   "metadata": {},
   "outputs": [
    {
     "data": {
      "text/latex": [
       "$\\displaystyle 2 e^{3}$"
      ],
      "text/plain": [
       "2*exp(3)"
      ]
     },
     "execution_count": 152,
     "metadata": {},
     "output_type": "execute_result"
    }
   ],
   "source": [
    "diff(f,x).subs(x,3)"
   ]
  },
  {
   "cell_type": "code",
   "execution_count": 153,
   "metadata": {},
   "outputs": [
    {
     "data": {
      "text/latex": [
       "$\\displaystyle x \\left(3 y + 1\\right) + 2 e^{x}$"
      ],
      "text/plain": [
       "x*(3*y + 1) + 2*exp(x)"
      ]
     },
     "execution_count": 153,
     "metadata": {},
     "output_type": "execute_result"
    }
   ],
   "source": [
    "integrate(f,x) #Integrar dx"
   ]
  },
  {
   "cell_type": "code",
   "execution_count": 160,
   "metadata": {},
   "outputs": [
    {
     "data": {
      "text/latex": [
       "$\\displaystyle \\sum_{n=1}^{\\infty} \\frac{1}{n^{2}}$"
      ],
      "text/plain": [
       "Sum(n**(-2), (n, 1, oo))"
      ]
     },
     "execution_count": 160,
     "metadata": {},
     "output_type": "execute_result"
    }
   ],
   "source": [
    "n=Symbol('n')\n",
    "Sum(1/n**2, (n,1,oo))"
   ]
  },
  {
   "cell_type": "code",
   "execution_count": 161,
   "metadata": {},
   "outputs": [
    {
     "data": {
      "text/latex": [
       "$\\displaystyle 1$"
      ],
      "text/plain": [
       "1"
      ]
     },
     "execution_count": 161,
     "metadata": {},
     "output_type": "execute_result"
    }
   ],
   "source": [
    "limit(sin(x)/x,x,0)"
   ]
  },
  {
   "cell_type": "code",
   "execution_count": 162,
   "metadata": {},
   "outputs": [
    {
     "data": {
      "text/latex": [
       "$\\displaystyle \\infty$"
      ],
      "text/plain": [
       "oo"
      ]
     },
     "execution_count": 162,
     "metadata": {},
     "output_type": "execute_result"
    }
   ],
   "source": [
    "limit(1/x,x,0)"
   ]
  },
  {
   "cell_type": "code",
   "execution_count": 165,
   "metadata": {},
   "outputs": [
    {
     "data": {
      "text/latex": [
       "$\\displaystyle 1 - x + \\frac{x^{2}}{2} - \\frac{x^{3}}{6} + \\frac{x^{4}}{24} + O\\left(x^{5}\\right)$"
      ],
      "text/plain": [
       "1 - x + x**2/2 - x**3/6 + x**4/24 + O(x**5)"
      ]
     },
     "execution_count": 165,
     "metadata": {},
     "output_type": "execute_result"
    }
   ],
   "source": [
    "series(exp(-x),x,0,5)"
   ]
  },
  {
   "cell_type": "code",
   "execution_count": 166,
   "metadata": {},
   "outputs": [
    {
     "data": {
      "text/latex": [
       "$\\displaystyle \\text{Matriz } [T]_{\\beta}^{\\gamma} = \\\n",
       "$$\\begin{bmatrix} \\alpha_1 & \\beta_1 & \\phi_1 & \\psi_1\\\\ \\\n",
       "\\alpha_2 & \\beta_2 & \\phi_2 & \\psi_2\\\\ \\\n",
       "\\alpha_3 & \\beta_3 & \\phi_3 & \\psi_3 \\end{bmatrix}$$ = \\left[\\begin{matrix}1 & 1 & 3\\\\-1 & 0 & 0\\\\0 & 2 & 0\\end{matrix}\\right]^{-1} \\left[\\begin{matrix}0 & 1 & 0 & 0\\\\0 & 0 & 2 & 0\\\\0 & 0 & 0 & 3\\end{matrix}\\right] = \\left[\\begin{matrix}0 & 0 & -2 & 0\\\\0 & 0 & 0 & \\frac{3}{2}\\\\0 & \\frac{1}{3} & \\frac{2}{3} & - \\frac{1}{2}\\end{matrix}\\right]$"
      ],
      "text/plain": [
       "<IPython.core.display.Math object>"
      ]
     },
     "metadata": {},
     "output_type": "display_data"
    }
   ],
   "source": [
    "from IPython.display import Markdown, display, Math\n",
    "from sympy import*\n",
    "from sympy import Matrix\n",
    "from sympy import init_printing\n",
    "import sympy as sp\n",
    "sp.init_printing()\n",
    "\n",
    "\n",
    "A = Matrix([[1,1,3], [-1,0,0],[0,2,0]])\n",
    "Ainv = A.inv()\n",
    "\n",
    "B = Matrix([[0,1,0,0], [0,0,2,0],[0,0,0,3]])\n",
    "\n",
    "AinvB = Ainv*B\n",
    "\n",
    "eq = r'$$\\begin{bmatrix} \\alpha_1 & \\beta_1 & \\phi_1 & \\psi_1\\\\ \\\n",
    "\\alpha_2 & \\beta_2 & \\phi_2 & \\psi_2\\\\ \\\n",
    "\\alpha_3 & \\beta_3 & \\phi_3 & \\psi_3 \\end{bmatrix}$$'\n",
    "\n",
    "display(Math(rf'\\text{{Matriz }} [T]_{{\\beta}}^{{\\gamma}} = \\\n",
    "%s = %s^{{-1}} %s = %s' \\\n",
    "%(eq,sp.latex(A),sp.latex(B),sp.latex(AinvB))))"
   ]
  },
  {
   "cell_type": "code",
   "execution_count": null,
   "metadata": {},
   "outputs": [],
   "source": []
  }
 ],
 "metadata": {
  "kernelspec": {
   "display_name": "Python 3",
   "language": "python",
   "name": "python3"
  },
  "language_info": {
   "codemirror_mode": {
    "name": "ipython",
    "version": 3
   },
   "file_extension": ".py",
   "mimetype": "text/x-python",
   "name": "python",
   "nbconvert_exporter": "python",
   "pygments_lexer": "ipython3",
   "version": "3.8.5"
  }
 },
 "nbformat": 4,
 "nbformat_minor": 4
}
