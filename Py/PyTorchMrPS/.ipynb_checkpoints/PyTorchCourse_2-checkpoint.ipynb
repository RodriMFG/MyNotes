{
 "cells": [
  {
   "cell_type": "markdown",
   "id": "79b33db1",
   "metadata": {},
   "source": [
    "## PyTorch: Machine Learning"
   ]
  },
  {
   "cell_type": "code",
   "execution_count": 2,
   "id": "78235b36",
   "metadata": {},
   "outputs": [],
   "source": [
    "import torch\n",
    "import torch.nn as nn\n",
    "from torch.optim import SGD\n",
    "import numpy as np\n",
    "import matplotlib.pyplot as plt\n",
    "import time"
   ]
  },
  {
   "cell_type": "markdown",
   "id": "b6e29b91",
   "metadata": {},
   "source": [
    "Let's consider a data set that consists of a independent vector $x_i$ and a dependant vector $y_i$.  \n",
    "The goal of a neural network is to find a function that can make predictions:  \n",
    "$$\n",
    "\\hat{y_i} = f(x_i; a)\n",
    "$$  \n",
    "Where $a$ is parameter vector."
   ]
  },
  {
   "cell_type": "markdown",
   "id": "3f02da74",
   "metadata": {},
   "source": [
    "We can define a *Loss* function $L(y, \\hat{y})$, which is inversly proportional to the difference between $y_i$s and $\\hat{y}$s. Example of a simple loss function:  \n",
    "$$\n",
    "L(y, \\hat{y}) = \\sum_i (y_i - \\hat{y_i})^2\n",
    "$$"
   ]
  },
  {
   "cell_type": "markdown",
   "id": "20db5a00",
   "metadata": {},
   "source": [
    "#### Example:"
   ]
  },
  {
   "cell_type": "code",
   "execution_count": 3,
   "id": "6d1d6a16",
   "metadata": {},
   "outputs": [],
   "source": [
    "x = torch.tensor([[6,2],[5,2],[1,3],[7,6]]).float()\n",
    "y = torch.tensor([1,5,2,5]).float()"
   ]
  },
  {
   "cell_type": "code",
   "execution_count": 4,
   "id": "278db818",
   "metadata": {},
   "outputs": [
    {
     "data": {
      "text/plain": [
       "(torch.Size([4, 2]),\n",
       " tensor([[6., 2.],\n",
       "         [5., 2.],\n",
       "         [1., 3.],\n",
       "         [7., 6.]]),\n",
       " torch.Size([4]),\n",
       " tensor([1., 5., 2., 5.]))"
      ]
     },
     "execution_count": 4,
     "metadata": {},
     "output_type": "execute_result"
    }
   ],
   "source": [
    "x.shape, x, y.shape, y"
   ]
  },
  {
   "cell_type": "markdown",
   "id": "a5f1fe3e",
   "metadata": {},
   "source": [
    "We want to predict $y$ using the $x$ tensor:  \n",
    "We have $x_1 = (6,2), x_2 = (5,2), \\dots$  \n",
    "And $y_1 = 1, y_2 = 5, \\dots$"
   ]
  },
  {
   "cell_type": "markdown",
   "id": "fab68bd5",
   "metadata": {},
   "source": [
    "Now let's define the parameter vector $a$, this can be as large as we want it to be.  \n",
    "Let's multiply each vector element ($(6,2)$, etc.) by an $8\\times{2}$ matrix (this is 16 parameter $a_i$).  \n",
    "Now multiply each element in $x$ by a $1\\times{8}$ matrix (this is 8 parameters $a_i$)."
   ]
  },
  {
   "cell_type": "code",
   "execution_count": 5,
   "id": "5d75a955",
   "metadata": {},
   "outputs": [
    {
     "data": {
      "text/plain": [
       "Linear(in_features=2, out_features=8, bias=False)"
      ]
     },
     "execution_count": 5,
     "metadata": {},
     "output_type": "execute_result"
    }
   ],
   "source": [
    "#The matrix is initially created with random values\n",
    "#We create the matrix with no bias, i.e. no scalar value for the function\n",
    "M1 = nn.Linear(2, 8, bias = False)\n",
    "M1"
   ]
  },
  {
   "cell_type": "code",
   "execution_count": 6,
   "id": "de21b701",
   "metadata": {},
   "outputs": [
    {
     "data": {
      "text/plain": [
       "tensor([[ 2.1207, -2.7310,  1.1480, -2.8647,  2.7543,  1.9357, -2.2801,  2.3892],\n",
       "        [ 1.6493, -2.4681,  1.0796, -2.2498,  2.5084,  1.6316, -1.9016,  1.9220],\n",
       "        [-0.5903, -1.9934,  1.1749,  0.6217,  2.1645,  0.4707, -0.3923, -0.1534],\n",
       "        [ 1.1765, -5.3011,  2.6918, -1.8308,  5.5583,  2.4620, -2.6770,  2.0288]],\n",
       "       grad_fn=<MmBackward0>)"
      ]
     },
     "execution_count": 6,
     "metadata": {},
     "output_type": "execute_result"
    }
   ],
   "source": [
    "#If we pass x, each of it's elements (2d vectors) are multiplied by M1\n",
    "#Giving us a tensor formed by four 8d vectors\n",
    "M1(x)"
   ]
  },
  {
   "cell_type": "code",
   "execution_count": 7,
   "id": "d322fc0e",
   "metadata": {},
   "outputs": [
    {
     "data": {
      "text/plain": [
       "Linear(in_features=8, out_features=1, bias=False)"
      ]
     },
     "execution_count": 7,
     "metadata": {},
     "output_type": "execute_result"
    }
   ],
   "source": [
    "#Our second matrix M2\n",
    "M2 = nn.Linear(8, 1, bias = False)\n",
    "M2"
   ]
  },
  {
   "cell_type": "code",
   "execution_count": 8,
   "id": "0ae2b613",
   "metadata": {},
   "outputs": [
    {
     "data": {
      "text/plain": [
       "tensor([[3.0078],\n",
       "        [2.5247],\n",
       "        [0.6471],\n",
       "        [3.7095]], grad_fn=<MmBackward0>)"
      ]
     },
     "execution_count": 8,
     "metadata": {},
     "output_type": "execute_result"
    }
   ],
   "source": [
    "M2(M1(x))"
   ]
  },
  {
   "cell_type": "code",
   "execution_count": 9,
   "id": "738f92b2",
   "metadata": {},
   "outputs": [
    {
     "data": {
      "text/plain": [
       "(torch.Size([4, 1]), torch.Size([4]))"
      ]
     },
     "execution_count": 9,
     "metadata": {},
     "output_type": "execute_result"
    }
   ],
   "source": [
    "#Our result doesn't line up (dimension-wise) to the expected result y\n",
    "M2(M1(x)).shape, y.shape"
   ]
  },
  {
   "cell_type": "code",
   "execution_count": 10,
   "id": "f16c6ebf",
   "metadata": {},
   "outputs": [
    {
     "data": {
      "text/plain": [
       "(torch.Size([4]),\n",
       " tensor([3.0078, 2.5247, 0.6471, 3.7095], grad_fn=<SqueezeBackward0>))"
      ]
     },
     "execution_count": 10,
     "metadata": {},
     "output_type": "execute_result"
    }
   ],
   "source": [
    "#We can remove the extra dimension with the function:\n",
    "M2(M1(x)).squeeze().shape, M2(M1(x)).squeeze()"
   ]
  },
  {
   "cell_type": "markdown",
   "id": "8af4ef5a",
   "metadata": {},
   "source": [
    "We see that our result doesn't match the expected result $y_i$. This is because the parameters haven't been touched (or trained). This is were machine learning comes in to play, where we can train our network in order to optimize the values of M1 and M2 "
   ]
  },
  {
   "cell_type": "code",
   "execution_count": 11,
   "id": "634c2271",
   "metadata": {},
   "outputs": [],
   "source": [
    "#We create a subclass of nn.Module to store the parameters of a\n",
    "#Later we can adjust these weights\n",
    "\n",
    "class MyNeuralNet(nn.Module):\n",
    "    def __init__(self):\n",
    "        super().__init__()\n",
    "        self.Matrix1 = nn.Linear(2,8,bias=False)\n",
    "        self.Matrix2 = nn.Linear(8,1,bias=False)\n",
    "    def forward(self,x):\n",
    "        x = self.Matrix1(x)\n",
    "        x = self.Matrix2(x)\n",
    "        return x.squeeze()"
   ]
  },
  {
   "cell_type": "code",
   "execution_count": 12,
   "id": "e2e13a77",
   "metadata": {},
   "outputs": [],
   "source": [
    "f = MyNeuralNet()"
   ]
  },
  {
   "cell_type": "code",
   "execution_count": 13,
   "id": "242600b3",
   "metadata": {},
   "outputs": [
    {
     "name": "stdout",
     "output_type": "stream",
     "text": [
      "Parameter containing:\n",
      "tensor([[-0.6339,  0.1724],\n",
      "        [-0.1755,  0.5212],\n",
      "        [-0.4180,  0.4025],\n",
      "        [ 0.5704,  0.4971],\n",
      "        [ 0.2045, -0.0479],\n",
      "        [ 0.1988, -0.4378],\n",
      "        [ 0.2318,  0.0851],\n",
      "        [-0.5445,  0.2366]], requires_grad=True)\n",
      "Parameter containing:\n",
      "tensor([[ 0.3045,  0.2638,  0.2369, -0.1356, -0.1990, -0.3007,  0.2599,  0.0503]],\n",
      "       requires_grad=True)\n"
     ]
    }
   ],
   "source": [
    "for par in f.parameters():\n",
    "    print(par)"
   ]
  },
  {
   "cell_type": "code",
   "execution_count": 14,
   "id": "9c350962",
   "metadata": {},
   "outputs": [
    {
     "data": {
      "text/plain": [
       "(tensor([1., 5., 2., 5.]),\n",
       " tensor([-2.1132, -1.6299,  0.6962, -1.0238], grad_fn=<SqueezeBackward0>))"
      ]
     },
     "execution_count": 14,
     "metadata": {},
     "output_type": "execute_result"
    }
   ],
   "source": [
    "yhat = f(x)\n",
    "y, yhat"
   ]
  },
  {
   "cell_type": "markdown",
   "id": "fa3ba182",
   "metadata": {},
   "source": [
    "#### Adjusting $a$ so that $\\hat{y}$ and $y$ are similar"
   ]
  },
  {
   "cell_type": "code",
   "execution_count": 15,
   "id": "6e09beb0",
   "metadata": {},
   "outputs": [
    {
     "data": {
      "text/plain": [
       "tensor(22.9085, grad_fn=<MseLossBackward0>)"
      ]
     },
     "execution_count": 15,
     "metadata": {},
     "output_type": "execute_result"
    }
   ],
   "source": [
    "#We'll use a builtin loss function of mean squared error\n",
    "L = nn.MSELoss()\n",
    "L(y, yhat)"
   ]
  },
  {
   "cell_type": "markdown",
   "id": "907d0bdb",
   "metadata": {},
   "source": [
    "The main idea is to compute the gradient of $L$ in respect to $a$, this is:  \n",
    "We have the loss function (which we want to minimize) $L = L(a)$, we want to find:  \n",
    "$$\n",
    "\\frac{\\partial L}{\\partial a_i}\n",
    "$$  \n",
    "For each parameter $a_i$ we want to adjust it as follows:  \n",
    "$$\n",
    "a_i \\rightarrow a_i - \\ell\\frac{\\partial L}{\\partial a_i}\n",
    "$$  \n",
    "Where $\\ell$ is the learning rate (how fast is $a_i$ adjusted with every training batch. If $\\ell$ is to large we will constantly be \"overshooting\" the local minimum we are looking for."
   ]
  },
  {
   "cell_type": "markdown",
   "id": "08ccc9c9",
   "metadata": {},
   "source": [
    "To do this we can use the SDG function (stochastic gradient descent)"
   ]
  },
  {
   "cell_type": "code",
   "execution_count": 16,
   "id": "71ecd33a",
   "metadata": {},
   "outputs": [],
   "source": [
    "#This function takes the parameters and learning rate\n",
    "opt = SGD(f.parameters(), lr = 0.001)"
   ]
  },
  {
   "cell_type": "code",
   "execution_count": 17,
   "id": "8d9b84cd",
   "metadata": {},
   "outputs": [],
   "source": [
    "#We can now adjust the parameters over and over\n",
    "losses = []\n",
    "for _ in range(50):\n",
    "    opt.zero_grad() #flush previous gradient\n",
    "    loss_value = L(f(x), y) #compute loss\n",
    "    loss_value.backward() #compute gradient\n",
    "    opt.step() #perform iteration using the gradient\n",
    "    losses.append(loss_value.item())"
   ]
  },
  {
   "cell_type": "code",
   "execution_count": 20,
   "id": "9825b112",
   "metadata": {},
   "outputs": [
    {
     "name": "stdout",
     "output_type": "stream",
     "text": [
      "[22.908458709716797, 18.680500030517578, 15.403928756713867, 12.818218231201172, 10.753393173217773, 9.092789649963379, 7.752588272094727, 6.670076847076416, 5.796682834625244, 5.09376335144043, 4.529966831207275, 4.079549312591553, 3.721235752105713, 3.437422513961792, 3.2135684490203857, 3.037714958190918, 2.900080442428589, 2.7927188873291016, 2.709214925765991, 2.6444249153137207, 2.594249725341797, 2.555443525314331, 2.5254502296447754, 2.5022668838500977, 2.4843318462371826, 2.470430374145508, 2.4596245288848877, 2.4511890411376953, 2.4445669651031494, 2.4393303394317627, 2.435152053833008, 2.431781768798828, 2.4290289878845215, 2.426748752593994, 2.4248290061950684, 2.423186779022217, 2.421757698059082, 2.4204933643341064, 2.419356346130371, 2.4183197021484375, 2.41736102104187, 2.4164652824401855, 2.4156198501586914, 2.4148144721984863, 2.414044141769409, 2.413301467895508, 2.4125828742980957, 2.4118857383728027, 2.4112067222595215, 2.4105446338653564]\n"
     ]
    }
   ],
   "source": [
    "print(losses)"
   ]
  },
  {
   "cell_type": "markdown",
   "id": "245b95c5",
   "metadata": {},
   "source": [
    "Plot Loss function with different iterations"
   ]
  },
  {
   "cell_type": "code",
   "execution_count": 18,
   "id": "27156138",
   "metadata": {},
   "outputs": [
    {
     "data": {
      "text/plain": [
       "Text(0.5, 0, 'Epochs')"
      ]
     },
     "execution_count": 18,
     "metadata": {},
     "output_type": "execute_result"
    },
    {
     "data": {
      "image/png": "[encoded data removed]",
      "text/plain": [
       "<Figure size 432x288 with 1 Axes>"
      ]
     },
     "metadata": {
      "needs_background": "light"
     },
     "output_type": "display_data"
    }
   ],
   "source": [
    "plt.plot(losses)\n",
    "plt.ylabel(\"Loss\")\n",
    "plt.xlabel(\"Epochs\")"
   ]
  },
  {
   "cell_type": "code",
   "execution_count": 19,
   "id": "3bed524a",
   "metadata": {},
   "outputs": [
    {
     "data": {
      "text/plain": [
       "(tensor([2.5641, 2.3571, 2.1897, 5.4148], grad_fn=<SqueezeBackward0>),\n",
       " tensor([1., 5., 2., 5.]))"
      ]
     },
     "execution_count": 19,
     "metadata": {},
     "output_type": "execute_result"
    }
   ],
   "source": [
    "f(x), y"
   ]
  },
  {
   "cell_type": "code",
   "execution_count": null,
   "id": "618711fe",
   "metadata": {},
   "outputs": [],
   "source": []
  }
 ],
 "metadata": {
  "kernelspec": {
   "display_name": "Python 3 (ipykernel)",
   "language": "python",
   "name": "python3"
  },
  "language_info": {
   "codemirror_mode": {
    "name": "ipython",
    "version": 3
   },
   "file_extension": ".py",
   "mimetype": "text/x-python",
   "name": "python",
   "nbconvert_exporter": "python",
   "pygments_lexer": "ipython3",
   "version": "3.10.5"
  }
 },
 "nbformat": 4,
 "nbformat_minor": 5
}
