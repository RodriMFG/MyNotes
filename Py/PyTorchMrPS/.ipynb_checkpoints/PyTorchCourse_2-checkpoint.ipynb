{
 "cells": [
  {
   "cell_type": "markdown",
   "id": "3893a21e",
   "metadata": {},
   "source": [
    "## PyTorch: Machine Learning"
   ]
  },
  {
   "cell_type": "code",
   "execution_count": 3,
   "id": "dac5e264",
   "metadata": {},
   "outputs": [],
   "source": [
    "import torch\n",
    "import torch.nn as nn\n",
    "from torch.optim import SGD\n",
    "import numpy as np\n",
    "import matplotlib.pyplot as plt\n",
    "import time"
   ]
  },
  {
   "cell_type": "markdown",
   "id": "bd64199e",
   "metadata": {},
   "source": [
    "Let's consider a data set that consists of a independent vector $x_i$ and a dependant vector $y_i$.  \n",
    "The goal of a neural network is to find a function that can make predictions:  \n",
    "$$\n",
    "\\hat{y_i} = f(x_i; a)\n",
    "$$  \n",
    "Where $a$ is parameter vector."
   ]
  },
  {
   "cell_type": "markdown",
   "id": "45a81269",
   "metadata": {},
   "source": [
    "We can define a *Loss* function $L(y, \\hat{y})$, which is inversly proportional to the difference between $y_i$s and $\\hat{y}$s. Example of a simple loss function:  \n",
    "$$\n",
    "L(y, \\hat{y}) = \\sum_i (y_i - \\hat{y_i})^2\n",
    "$$"
   ]
  },
  {
   "cell_type": "markdown",
   "id": "796a6265",
   "metadata": {},
   "source": [
    "#### Example:"
   ]
  },
  {
   "cell_type": "code",
   "execution_count": 44,
   "id": "83c43af8",
   "metadata": {},
   "outputs": [],
   "source": [
    "x = torch.tensor([[6,2],[5,2],[1,3],[7,6]]).float()\n",
    "y = torch.tensor([1,5,2,5]).float()"
   ]
  },
  {
   "cell_type": "code",
   "execution_count": 15,
   "id": "bb7c30b1",
   "metadata": {},
   "outputs": [
    {
     "data": {
      "text/plain": [
       "(torch.Size([4, 2]),\n",
       " tensor([[6., 2.],\n",
       "         [5., 2.],\n",
       "         [1., 3.],\n",
       "         [7., 6.]]),\n",
       " torch.Size([4]),\n",
       " tensor([1., 5., 2., 5.]))"
      ]
     },
     "execution_count": 15,
     "metadata": {},
     "output_type": "execute_result"
    }
   ],
   "source": [
    "x.shape, x, y.shape, y"
   ]
  },
  {
   "cell_type": "markdown",
   "id": "6ef7e1e0",
   "metadata": {},
   "source": [
    "We want to predict $y$ using the $x$ tensor:  \n",
    "We have $x_1 = (6,2), x_2 = (5,2), \\dots$  \n",
    "And $y_1 = 1, y_2 = 5, \\dots$"
   ]
  },
  {
   "cell_type": "markdown",
   "id": "53047d9e",
   "metadata": {},
   "source": [
    "Now let's define the parameter vector $a$, this can be as large as we want it to be.  \n",
    "Let's multiply each vector element ($(6,2)$, etc.) by an $8\\times{2}$ matrix (this is 16 parameter $a_i$).  \n",
    "Now multiply each element in $x$ by a $1\\times{8}$ matrix (this is 8 parameters $a_i$)."
   ]
  },
  {
   "cell_type": "code",
   "execution_count": 19,
   "id": "35881c4b",
   "metadata": {},
   "outputs": [
    {
     "data": {
      "text/plain": [
       "Linear(in_features=2, out_features=8, bias=False)"
      ]
     },
     "execution_count": 19,
     "metadata": {},
     "output_type": "execute_result"
    }
   ],
   "source": [
    "#The matrix is initially created with random values\n",
    "#We create the matrix with no bias, i.e. no scalar value for the function\n",
    "M1 = nn.Linear(2, 8, bias = False)\n",
    "M1"
   ]
  },
  {
   "cell_type": "code",
   "execution_count": 22,
   "id": "78a14f87",
   "metadata": {},
   "outputs": [
    {
     "data": {
      "text/plain": [
       "tensor([[-1.0400,  3.4515,  2.3830,  1.5895,  1.3507,  4.5750,  2.1904,  3.2824],\n",
       "        [-0.7310,  2.7467,  1.9173,  1.5138,  1.3155,  3.9038,  2.0021,  2.8887],\n",
       "        [ 0.9114, -0.4616, -0.1508,  1.7788,  1.7442,  1.4930,  1.7796,  1.7740],\n",
       "        [ 0.2782,  2.6012,  2.0267,  3.9360,  3.6645,  6.3420,  4.5005,  5.5166]],\n",
       "       grad_fn=<MmBackward0>)"
      ]
     },
     "execution_count": 22,
     "metadata": {},
     "output_type": "execute_result"
    }
   ],
   "source": [
    "#If we pass x, each of it's elements (2d vectors) are multiplied by M1\n",
    "#Giving us a tensor formed by four 8d vectors\n",
    "M1(x)"
   ]
  },
  {
   "cell_type": "code",
   "execution_count": 23,
   "id": "275adf39",
   "metadata": {},
   "outputs": [
    {
     "data": {
      "text/plain": [
       "Linear(in_features=8, out_features=1, bias=False)"
      ]
     },
     "execution_count": 23,
     "metadata": {},
     "output_type": "execute_result"
    }
   ],
   "source": [
    "#Our second matrix M2\n",
    "M2 = nn.Linear(8, 1, bias = False)\n",
    "M2"
   ]
  },
  {
   "cell_type": "code",
   "execution_count": 27,
   "id": "f87c3157",
   "metadata": {},
   "outputs": [
    {
     "data": {
      "text/plain": [
       "tensor([[1.3737],\n",
       "        [1.2747],\n",
       "        [1.2688],\n",
       "        [3.0324]], grad_fn=<MmBackward0>)"
      ]
     },
     "execution_count": 27,
     "metadata": {},
     "output_type": "execute_result"
    }
   ],
   "source": [
    "M2(M1(x))"
   ]
  },
  {
   "cell_type": "code",
   "execution_count": 28,
   "id": "8dee4e9d",
   "metadata": {},
   "outputs": [
    {
     "data": {
      "text/plain": [
       "(torch.Size([4, 1]), torch.Size([4]))"
      ]
     },
     "execution_count": 28,
     "metadata": {},
     "output_type": "execute_result"
    }
   ],
   "source": [
    "#Our result doesn't line up (dimension-wise) to the expected result y\n",
    "M2(M1(x)).shape, y.shape"
   ]
  },
  {
   "cell_type": "code",
   "execution_count": 31,
   "id": "62987157",
   "metadata": {},
   "outputs": [
    {
     "data": {
      "text/plain": [
       "(torch.Size([4]),\n",
       " tensor([1.3737, 1.2747, 1.2688, 3.0324], grad_fn=<SqueezeBackward0>))"
      ]
     },
     "execution_count": 31,
     "metadata": {},
     "output_type": "execute_result"
    }
   ],
   "source": [
    "#We can remove the extra dimension with the function:\n",
    "M2(M1(x)).squeeze().shape, M2(M1(x)).squeeze()"
   ]
  },
  {
   "cell_type": "markdown",
   "id": "0723013c",
   "metadata": {},
   "source": [
    "We see that our result doesn't match the expected result $y_i$. This is because the parameters haven't been touched (or trained). This is were machine learning comes in to play, where we can train our network in order to optimize the values of M1 and M2 "
   ]
  },
  {
   "cell_type": "code",
   "execution_count": 46,
   "id": "3aed4743",
   "metadata": {},
   "outputs": [],
   "source": [
    "#We create a subclass of nn.Module to store the parameters of a\n",
    "#Later we can adjust these weights\n",
    "\n",
    "class MyNeuralNet(nn.Module):\n",
    "    def __init__(self):\n",
    "        super().__init__()\n",
    "        self.Matrix1 = nn.Linear(2,8,bias=False)\n",
    "        self.Matrix2 = nn.Linear(8,1,bias=False)\n",
    "    def forward(self,x):\n",
    "        x = self.Matrix1(x)\n",
    "        x = self.Matrix2(x)\n",
    "        return x.squeeze()"
   ]
  },
  {
   "cell_type": "code",
   "execution_count": 47,
   "id": "0099b640",
   "metadata": {},
   "outputs": [],
   "source": [
    "f = MyNeuralNet()"
   ]
  },
  {
   "cell_type": "code",
   "execution_count": 48,
   "id": "465e98df",
   "metadata": {},
   "outputs": [
    {
     "name": "stdout",
     "output_type": "stream",
     "text": [
      "Parameter containing:\n",
      "tensor([[-0.6957, -0.2445],\n",
      "        [ 0.3150,  0.5439],\n",
      "        [-0.1474, -0.4681],\n",
      "        [-0.3217,  0.3290],\n",
      "        [-0.1569, -0.4198],\n",
      "        [-0.3657,  0.3634],\n",
      "        [-0.1470,  0.4067],\n",
      "        [ 0.6392, -0.3233]], requires_grad=True)\n",
      "Parameter containing:\n",
      "tensor([[ 0.0838, -0.0183,  0.0029,  0.1806,  0.2983, -0.0258, -0.0474, -0.3128]],\n",
      "       requires_grad=True)\n"
     ]
    }
   ],
   "source": [
    "for par in f.parameters():\n",
    "    print(par)"
   ]
  },
  {
   "cell_type": "code",
   "execution_count": 50,
   "id": "f330e597",
   "metadata": {},
   "outputs": [
    {
     "data": {
      "text/plain": [
       "(tensor([1., 5., 2., 5.]),\n",
       " tensor([-2.1679, -1.8150, -0.4284, -2.6214], grad_fn=<SqueezeBackward0>))"
      ]
     },
     "execution_count": 50,
     "metadata": {},
     "output_type": "execute_result"
    }
   ],
   "source": [
    "yhat = f(x)\n",
    "y, yhat"
   ]
  },
  {
   "cell_type": "markdown",
   "id": "d5e68b08",
   "metadata": {},
   "source": [
    "#### Adjusting $a$ so that $\\hat{y}$ and $y$ are similar"
   ]
  },
  {
   "cell_type": "code",
   "execution_count": 51,
   "id": "32f1e99e",
   "metadata": {},
   "outputs": [
    {
     "data": {
      "text/plain": [
       "tensor(30.1155, grad_fn=<MseLossBackward0>)"
      ]
     },
     "execution_count": 51,
     "metadata": {},
     "output_type": "execute_result"
    }
   ],
   "source": [
    "#We'll use a builtin loss function of mean squared error\n",
    "L = nn.MSELoss()\n",
    "L(y, yhat)"
   ]
  },
  {
   "cell_type": "markdown",
   "id": "bb5b69de",
   "metadata": {},
   "source": [
    "The main idea is to compute the gradient of $L$ in respect to $a$, this is:  \n",
    "We have the loss function (which we want to minimize) $L = L(a)$, we want to find:  \n",
    "$$\n",
    "\\frac{\\partial L}{\\partial a_i}\n",
    "$$  \n",
    "For each parameter $a_i$ we want to adjust it as follows:  \n",
    "$$\n",
    "a_i \\rightarrow a_i - \\ell\\frac{\\partial L}{\\partial a_i}\n",
    "$$  \n",
    "Where $\\ell$ is the learning rate (how fast is $a_i$ adjusted with every training batch. If $\\ell$ is to large we will constantly be \"overshooting\" the local minimum we are looking for."
   ]
  },
  {
   "cell_type": "markdown",
   "id": "6671dc59",
   "metadata": {},
   "source": [
    "To do this we can use the SDG function (stochastic gradient descent)"
   ]
  },
  {
   "cell_type": "code",
   "execution_count": 53,
   "id": "87a26181",
   "metadata": {},
   "outputs": [],
   "source": [
    "#This function takes the parameters and learning rate\n",
    "opt = SGD(f.parameters(), lr = 0.001)"
   ]
  },
  {
   "cell_type": "code",
   "execution_count": 54,
   "id": "04b7e2f9",
   "metadata": {},
   "outputs": [],
   "source": [
    "#We can now adjust the parameters over and over\n",
    "losses = []\n",
    "for _ in range(50):\n",
    "    opt.zero_grad() #flush previous gradient\n",
    "    loss_value = L(f(x), y) #compute loss\n",
    "    loss_value.backward() #compute gradient\n",
    "    opt.step() #perform iteration using the gradient\n",
    "    losses.append(loss_value.item())"
   ]
  },
  {
   "cell_type": "markdown",
   "id": "1b5da6f9",
   "metadata": {},
   "source": [
    "Plot Loss function with different iterations"
   ]
  },
  {
   "cell_type": "code",
   "execution_count": 57,
   "id": "0a337208",
   "metadata": {},
   "outputs": [
    {
     "data": {
      "text/plain": [
       "Text(0.5, 0, 'Epochs')"
      ]
     },
     "execution_count": 57,
     "metadata": {},
     "output_type": "execute_result"
    },
    {
     "data": {
      "image/png": "[encoded data removed]",
      "text/plain": [
       "<Figure size 432x288 with 1 Axes>"
      ]
     },
     "metadata": {
      "needs_background": "light"
     },
     "output_type": "display_data"
    }
   ],
   "source": [
    "plt.plot(losses)\n",
    "plt.ylabel(\"Loss\")\n",
    "plt.xlabel(\"Epochs\")"
   ]
  },
  {
   "cell_type": "code",
   "execution_count": 58,
   "id": "29b5cc20",
   "metadata": {},
   "outputs": [
    {
     "data": {
      "text/plain": [
       "(tensor([2.9119, 2.5870, 1.7690, 5.1622], grad_fn=<SqueezeBackward0>),\n",
       " tensor([1., 5., 2., 5.]))"
      ]
     },
     "execution_count": 58,
     "metadata": {},
     "output_type": "execute_result"
    }
   ],
   "source": [
    "f(x), y"
   ]
  },
  {
   "cell_type": "code",
   "execution_count": null,
   "id": "0848863c",
   "metadata": {},
   "outputs": [],
   "source": []
  }
 ],
 "metadata": {
  "kernelspec": {
   "display_name": "Python 3 (ipykernel)",
   "language": "python",
   "name": "python3"
  },
  "language_info": {
   "codemirror_mode": {
    "name": "ipython",
    "version": 3
   },
   "file_extension": ".py",
   "mimetype": "text/x-python",
   "name": "python",
   "nbconvert_exporter": "python",
   "pygments_lexer": "ipython3",
   "version": "3.10.5"
  }
 },
 "nbformat": 4,
 "nbformat_minor": 5
}
