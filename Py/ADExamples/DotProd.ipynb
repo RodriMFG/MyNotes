{
 "cells": [
  {
   "cell_type": "code",
   "execution_count": 2,
   "id": "1abc2047",
   "metadata": {},
   "outputs": [],
   "source": [
    "import numpy as np"
   ]
  },
  {
   "cell_type": "code",
   "execution_count": 3,
   "id": "94db3669",
   "metadata": {},
   "outputs": [],
   "source": [
    "v1 = np.array([1, 2, 3])\n",
    "v2 = np.array([2, 3, 4])"
   ]
  },
  {
   "cell_type": "code",
   "execution_count": 18,
   "id": "3c65350e",
   "metadata": {},
   "outputs": [],
   "source": [
    "def dot(a, b):\n",
    "    total = 0.0\n",
    "    for i in range(len(a)):\n",
    "        total += a[i]*b[i]\n",
    "    \n",
    "    return total"
   ]
  },
  {
   "cell_type": "code",
   "execution_count": 19,
   "id": "49b7526d",
   "metadata": {},
   "outputs": [
    {
     "data": {
      "text/plain": [
       "20.0"
      ]
     },
     "execution_count": 19,
     "metadata": {},
     "output_type": "execute_result"
    }
   ],
   "source": [
    "dot(v1, v2)"
   ]
  },
  {
   "cell_type": "code",
   "execution_count": 26,
   "id": "e5487230",
   "metadata": {},
   "outputs": [
    {
     "data": {
      "text/plain": [
       "-6.800000000000001"
      ]
     },
     "execution_count": 26,
     "metadata": {},
     "output_type": "execute_result"
    }
   ],
   "source": [
    "a = np.array([2, 0.5, 2, -5, 3])\n",
    "b = np.array([-1, 3, -3.4, 2, 3.5])\n",
    "\n",
    "dot(a, b)"
   ]
  },
  {
   "cell_type": "code",
   "execution_count": null,
   "id": "e8928f8d",
   "metadata": {},
   "outputs": [],
   "source": []
  }
 ],
 "metadata": {
  "kernelspec": {
   "display_name": "Python 3 (ipykernel)",
   "language": "python",
   "name": "python3"
  },
  "language_info": {
   "codemirror_mode": {
    "name": "ipython",
    "version": 3
   },
   "file_extension": ".py",
   "mimetype": "text/x-python",
   "name": "python",
   "nbconvert_exporter": "python",
   "pygments_lexer": "ipython3",
   "version": "3.10.5"
  }
 },
 "nbformat": 4,
 "nbformat_minor": 5
}
