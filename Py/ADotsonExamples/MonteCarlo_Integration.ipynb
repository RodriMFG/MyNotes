{
 "cells": [
  {
   "cell_type": "code",
   "execution_count": 1,
   "id": "09613e8d",
   "metadata": {},
   "outputs": [],
   "source": [
    "from numpy import random\n",
    "import numpy as np\n",
    "import matplotlib.pyplot as plt"
   ]
  },
  {
   "cell_type": "code",
   "execution_count": 9,
   "id": "d644969c",
   "metadata": {},
   "outputs": [
    {
     "name": "stdout",
     "output_type": "stream",
     "text": [
      "Numeric value = 2.0001665608747694\n"
     ]
    },
    {
     "data": {
      "image/png": "[encoded data removed]",
      "text/plain": [
       "<Figure size 432x288 with 1 Axes>"
      ]
     },
     "metadata": {
      "needs_background": "light"
     },
     "output_type": "display_data"
    }
   ],
   "source": [
    "a = 0\n",
    "b = np.pi\n",
    "\n",
    "N = 2500\n",
    "\n",
    "def func(x):\n",
    "    return np.sin(x)\n",
    "    \n",
    "areas = []\n",
    "\n",
    "for i in range(N):\n",
    "    xrand = random.uniform(a, b, N)\n",
    "    integral = 0.0\n",
    "\n",
    "    for i in range(N):\n",
    "        integral += func(xrand[i])\n",
    "    \n",
    "    answer = (b-a)/float(N) * integral\n",
    "    areas.append(answer)\n",
    "    \n",
    "print(\"Numeric value =\", sum(areas)/N)\n",
    "    \n",
    "plt.hist(areas, bins = 30, ec = 'black')\n",
    "plt.show()"
   ]
  },
  {
   "cell_type": "code",
   "execution_count": null,
   "id": "27b20bb8",
   "metadata": {},
   "outputs": [],
   "source": []
  }
 ],
 "metadata": {
  "kernelspec": {
   "display_name": "Python 3 (ipykernel)",
   "language": "python",
   "name": "python3"
  },
  "language_info": {
   "codemirror_mode": {
    "name": "ipython",
    "version": 3
   },
   "file_extension": ".py",
   "mimetype": "text/x-python",
   "name": "python",
   "nbconvert_exporter": "python",
   "pygments_lexer": "ipython3",
   "version": "3.10.5"
  }
 },
 "nbformat": 4,
 "nbformat_minor": 5
}
