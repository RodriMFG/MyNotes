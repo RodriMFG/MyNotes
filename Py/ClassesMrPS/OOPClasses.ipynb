{
 "cells": [
  {
   "cell_type": "markdown",
   "id": "2a067750",
   "metadata": {},
   "source": [
    "## Object Oriented Programming\n",
    "### Classes"
   ]
  },
  {
   "cell_type": "code",
   "execution_count": 34,
   "id": "5130860a",
   "metadata": {},
   "outputs": [],
   "source": [
    "import numpy as np\n",
    "import matplotlib.pyplot as plt\n",
    "from scipy.integrate import solve_ivp"
   ]
  },
  {
   "cell_type": "markdown",
   "id": "6ffdaf81",
   "metadata": {},
   "source": [
    "A class in Python is like a blueprint for an object (function, array, set of variables). When the class is implemented you call it an \"instance\". You can create a class as follows:"
   ]
  },
  {
   "cell_type": "code",
   "execution_count": 2,
   "id": "27fa785b",
   "metadata": {},
   "outputs": [],
   "source": [
    "class Particle():\n",
    "    #initialization function is called when the class is created\n",
    "    #has to take self as an argument\n",
    "    def __init__(self, x, y, z, vx, vy, vz, m):\n",
    "        #any variable that is initialized (doesn't come from args)\n",
    "        #has to take the self kwarg\n",
    "        self.x = x\n",
    "        self.y = y\n",
    "        self.z = z\n",
    "        self.vx = vx\n",
    "        self.vy = vy\n",
    "        self.vz = vz\n",
    "        self.m = m\n",
    "    def move(self, t):\n",
    "        self.x += self.vx * t\n",
    "        self.y += self.vy * t\n",
    "        self.z += self.vz * t\n",
    "    def pos(self):\n",
    "        return np.array([self.x, self.y, self.z])\n",
    "    def vel(self):\n",
    "        return np.array([self.vx, self.vy, self.vz])\n",
    "    def disp(self):\n",
    "        return np.sqrt(self.x**2 + self.y**2 + self.z**2)\n",
    "    def speed(self):\n",
    "        return np.sqrt(self.vx**2 + self.vy**2 + self.vz**2)"
   ]
  },
  {
   "cell_type": "markdown",
   "id": "e3536a7f",
   "metadata": {},
   "source": [
    "Let's create an instance of the class"
   ]
  },
  {
   "cell_type": "code",
   "execution_count": 3,
   "id": "bd256bc7",
   "metadata": {},
   "outputs": [],
   "source": [
    "#particle of r = (0, 0, 0), v = (1, 0, 0) and mass = 1\n",
    "p1 = Particle(0, 0, 0, 1, 0, 0, 1)"
   ]
  },
  {
   "cell_type": "code",
   "execution_count": 4,
   "id": "28b285c4",
   "metadata": {},
   "outputs": [
    {
     "data": {
      "text/plain": [
       "(array([0, 0, 0]), 0.0, array([1, 0, 0]), 1.0)"
      ]
     },
     "execution_count": 4,
     "metadata": {},
     "output_type": "execute_result"
    }
   ],
   "source": [
    "#look at a class' atributes\n",
    "p1.pos(), p1.disp(), p1.vel(), p1.speed()"
   ]
  },
  {
   "cell_type": "markdown",
   "id": "58dbf976",
   "metadata": {},
   "source": [
    "To call the methods of the class we do as follows:"
   ]
  },
  {
   "cell_type": "code",
   "execution_count": 5,
   "id": "15326fcc",
   "metadata": {},
   "outputs": [],
   "source": [
    "p1.move(2)"
   ]
  },
  {
   "cell_type": "code",
   "execution_count": 6,
   "id": "facc7905",
   "metadata": {},
   "outputs": [
    {
     "data": {
      "text/plain": [
       "(array([2, 0, 0]), 2.0)"
      ]
     },
     "execution_count": 6,
     "metadata": {},
     "output_type": "execute_result"
    }
   ],
   "source": [
    "#p1 should now have a different position\n",
    "p1.pos(), p1.disp()"
   ]
  },
  {
   "cell_type": "markdown",
   "id": "dd524c1c",
   "metadata": {},
   "source": [
    "### Inheritance of Classes"
   ]
  },
  {
   "cell_type": "markdown",
   "id": "ac3a5772",
   "metadata": {},
   "source": [
    "A child class inherits all traits of the parent class but can be modified"
   ]
  },
  {
   "cell_type": "code",
   "execution_count": 7,
   "id": "b7a81cd3",
   "metadata": {},
   "outputs": [],
   "source": [
    "#the child class takes as arg the parent class\n",
    "class Proton(Particle):\n",
    "    def __init__(self, x, y, z, vx, vy, vz):\n",
    "        #we predefine the mass and add the charge\n",
    "        self.q = 1.6e-19\n",
    "        self.m = 9.11e-31\n",
    "        #we call the init function of the parent class of proton\n",
    "        #and we define the class the same but with the predefined mass\n",
    "        super(Proton, self).__init__(x, y, z, vx, vy, vz, self.m)"
   ]
  },
  {
   "cell_type": "code",
   "execution_count": 8,
   "id": "9d80d406",
   "metadata": {},
   "outputs": [],
   "source": [
    "p = Proton(0,0,0,1,0,0)"
   ]
  },
  {
   "cell_type": "code",
   "execution_count": 9,
   "id": "9e59c03f",
   "metadata": {},
   "outputs": [
    {
     "data": {
      "text/plain": [
       "(array([0, 0, 0]), array([1, 0, 0]))"
      ]
     },
     "execution_count": 9,
     "metadata": {},
     "output_type": "execute_result"
    }
   ],
   "source": [
    "p.pos(), p.vel()"
   ]
  },
  {
   "cell_type": "code",
   "execution_count": 10,
   "id": "dce27990",
   "metadata": {},
   "outputs": [],
   "source": [
    "p.move(2)"
   ]
  },
  {
   "cell_type": "code",
   "execution_count": 11,
   "id": "f2f9ae11",
   "metadata": {},
   "outputs": [
    {
     "data": {
      "text/plain": [
       "array([2, 0, 0])"
      ]
     },
     "execution_count": 11,
     "metadata": {},
     "output_type": "execute_result"
    }
   ],
   "source": [
    "p.pos()"
   ]
  },
  {
   "cell_type": "markdown",
   "id": "e80caf8a",
   "metadata": {},
   "source": [
    "We can also define new methods in the child class, or modify already existing ones"
   ]
  },
  {
   "cell_type": "code",
   "execution_count": 12,
   "id": "e39a1db1",
   "metadata": {},
   "outputs": [],
   "source": [
    "class Proton(Particle):\n",
    "    def __init__(self, x, y, z, vx, vy, vz):\n",
    "        self.q = 1.6e-19\n",
    "        self.m = 9.11e-31\n",
    "        super(Proton, self).__init__(x, y, z, vx, vy, vz, self.m)\n",
    "    #we modify the move functin to include E-field\n",
    "    def move(self, t, Ex, Ey, Ez):\n",
    "        self.x += self.vx * t + (1/2) * (self.q / self.m) * Ex * t**2\n",
    "        self.y += self.vy * t + (1/2) * (self.q / self.m) * Ey * t**2\n",
    "        self.z += self.vz * t + (1/2) * (self.q / self.m) * Ez * t**2\n",
    "        self.vx += (self.q / self.m) * Ex * t\n",
    "        self.vy += (self.q / self.m) * Ey * t\n",
    "        self.vz += (self.q / self.m) * Ez * t"
   ]
  },
  {
   "cell_type": "code",
   "execution_count": 13,
   "id": "bad4b549",
   "metadata": {},
   "outputs": [],
   "source": [
    "p = Proton(0,0,0,1,0,0)"
   ]
  },
  {
   "cell_type": "code",
   "execution_count": 14,
   "id": "1137e9ba",
   "metadata": {},
   "outputs": [
    {
     "data": {
      "text/plain": [
       "(array([0, 0, 0]), array([1, 0, 0]))"
      ]
     },
     "execution_count": 14,
     "metadata": {},
     "output_type": "execute_result"
    }
   ],
   "source": [
    "p.pos(), p.vel()"
   ]
  },
  {
   "cell_type": "code",
   "execution_count": 15,
   "id": "8fcf792e",
   "metadata": {},
   "outputs": [],
   "source": [
    "p.move(t = 2, Ex = 4e-12, Ey = 9e-12, Ez = 0)"
   ]
  },
  {
   "cell_type": "code",
   "execution_count": 16,
   "id": "bdd00571",
   "metadata": {},
   "outputs": [
    {
     "data": {
      "text/plain": [
       "(array([3.4050494 , 3.16136114, 0.        ]),\n",
       " array([2.4050494 , 3.16136114, 0.        ]))"
      ]
     },
     "execution_count": 16,
     "metadata": {},
     "output_type": "execute_result"
    }
   ],
   "source": [
    "p.pos(), p.vel()"
   ]
  },
  {
   "cell_type": "markdown",
   "id": "829cb728",
   "metadata": {},
   "source": [
    "### Example: Projectile motion"
   ]
  },
  {
   "cell_type": "code",
   "execution_count": 17,
   "id": "8f46438b",
   "metadata": {},
   "outputs": [],
   "source": [
    "class Projectile():\n",
    "    #ro: initial position\n",
    "    #vo: initial velocity\n",
    "    #time of motion\n",
    "    def __init__(self, ro, vo, g, t):\n",
    "        self.t = t\n",
    "        xo, yo = ro\n",
    "        vxo, vyo, = vo\n",
    "        self.x = xo + vxo * self.t\n",
    "        self.y = yo + vyo * self.t + -(1/2) * g * self.t**2\n",
    "    def peakY(self):\n",
    "        return max(self.y)\n",
    "    def peakX(self):\n",
    "        return self.x[ np.argmax(self.y) ]\n",
    "    def peakTime(self):\n",
    "        return self.t[ np.argmax(self.y) ]\n",
    "    def land(self):\n",
    "        xAfterPeak = self.x[ self.t > self.peakTime() ]\n",
    "        yAfterPeak = self.y[ self.t > self.peakTime() ]\n",
    "        return xAfterPeak[ np.argmin( np.abs(yAfterPeak) ) ]"
   ]
  },
  {
   "cell_type": "code",
   "execution_count": 18,
   "id": "b1db144c",
   "metadata": {},
   "outputs": [
    {
     "data": {
      "image/png": "[encoded data removed]",
      "text/plain": [
       "<Figure size 504x432 with 1 Axes>"
      ]
     },
     "metadata": {
      "needs_background": "light"
     },
     "output_type": "display_data"
    }
   ],
   "source": [
    "p = Projectile(ro = [0, 0],\n",
    "               vo = [5,6],\n",
    "               g = 9.8,\n",
    "               t = np.linspace(0, 1.5, 100))\n",
    "\n",
    "plt.figure(figsize = (7, 6))\n",
    "plt.plot(p.x, p.y, 'blue')\n",
    "plt.axhline(p.peakY(), color='red', ls='--')\n",
    "plt.axvline(p.peakX(), color='red', ls='--')\n",
    "plt.grid()\n",
    "plt.show()"
   ]
  },
  {
   "cell_type": "markdown",
   "id": "4964d3c2",
   "metadata": {},
   "source": [
    "Let's define multiple instances"
   ]
  },
  {
   "cell_type": "code",
   "execution_count": 19,
   "id": "67e7d207",
   "metadata": {},
   "outputs": [],
   "source": [
    "thetas = np.linspace(0, np.pi/2, 100)\n",
    "vo = 10\n",
    "vxs = vo * np.cos(thetas)\n",
    "vys = vo * np.sin(thetas)"
   ]
  },
  {
   "cell_type": "markdown",
   "id": "fca84c1b",
   "metadata": {},
   "source": [
    "We can use list comprehension"
   ]
  },
  {
   "cell_type": "code",
   "execution_count": 20,
   "id": "69478466",
   "metadata": {},
   "outputs": [
    {
     "data": {
      "text/plain": [
       "[1, 4, 9, 16, 25, 36, 49, 64, 81, 100]"
      ]
     },
     "execution_count": 20,
     "metadata": {},
     "output_type": "execute_result"
    }
   ],
   "source": [
    "#example\n",
    "[i**2 for i in range(1, 11)]"
   ]
  },
  {
   "cell_type": "code",
   "execution_count": 21,
   "id": "14082e9b",
   "metadata": {},
   "outputs": [],
   "source": [
    "ps = [Projectile(ro = [0,0],\n",
    "                vo = [vx,vy],\n",
    "                g = 9.8,\n",
    "                t = np.linspace(0,3,300)) for vx,vy in zip(vxs,vys)]"
   ]
  },
  {
   "cell_type": "code",
   "execution_count": 22,
   "id": "cea1f336",
   "metadata": {},
   "outputs": [],
   "source": [
    "max_heights = [p.peakY() for p in ps]\n",
    "x_landings = [p.land() for p in ps]"
   ]
  },
  {
   "cell_type": "code",
   "execution_count": 23,
   "id": "a5501df6",
   "metadata": {},
   "outputs": [
    {
     "data": {
      "image/png": "[encoded data removed]",
      "text/plain": [
       "<Figure size 720x288 with 2 Axes>"
      ]
     },
     "metadata": {
      "needs_background": "light"
     },
     "output_type": "display_data"
    }
   ],
   "source": [
    "fig = plt.figure(figsize=(10,4))\n",
    "plt.subplot(121)\n",
    "plt.plot(thetas, max_heights)\n",
    "plt.xlabel(\"Launch Angle\")\n",
    "plt.ylabel(\"Max Height\")\n",
    "plt.subplot(122)\n",
    "plt.plot(thetas, x_landings)\n",
    "plt.xlabel(\"Launch Angle\")\n",
    "plt.ylabel(\"x landing\")\n",
    "plt.show()"
   ]
  },
  {
   "cell_type": "markdown",
   "id": "53d1ab0d",
   "metadata": {},
   "source": [
    "More advanced class"
   ]
  },
  {
   "cell_type": "code",
   "execution_count": 24,
   "id": "cf885f7a",
   "metadata": {},
   "outputs": [],
   "source": [
    "class Projectiles():\n",
    "    def __init__(self, ro, vos, g, t):\n",
    "        self.ps = [Projectile(ro = ro,\n",
    "                              vo = vo,\n",
    "                              g = g,\n",
    "                              t= t) for vo in vos]\n",
    "    def max_heights(self):\n",
    "        return [p.peakY() for p in self.ps]\n",
    "    def x_landings(self):\n",
    "        return [p.land() for p in self.ps]\n",
    "    def get_projectiles(self):\n",
    "        return self.ps"
   ]
  },
  {
   "cell_type": "code",
   "execution_count": 25,
   "id": "6408bd88",
   "metadata": {},
   "outputs": [],
   "source": [
    "thetas = np.linspace(0, np.pi/2, 100)\n",
    "vo = 10\n",
    "vxs = vo*np.cos(thetas)\n",
    "vys = vo*np.sin(thetas)"
   ]
  },
  {
   "cell_type": "code",
   "execution_count": 26,
   "id": "859e7985",
   "metadata": {},
   "outputs": [
    {
     "data": {
      "text/plain": [
       "array([[1.00000000e+01, 0.00000000e+00],\n",
       "       [9.99874128e+00, 1.58659638e-01],\n",
       "       [9.99496542e+00, 3.17279335e-01],\n",
       "       [9.98867339e+00, 4.75819158e-01],\n",
       "       [9.97986676e+00, 6.34239197e-01],\n",
       "       [9.96854776e+00, 7.92499569e-01],\n",
       "       [9.95471923e+00, 9.50560433e-01],\n",
       "       [9.93838464e+00, 1.10838200e+00],\n",
       "       [9.91954813e+00, 1.26592454e+00],\n",
       "       [9.89821442e+00, 1.42314838e+00],\n",
       "       [9.87438889e+00, 1.58001396e+00],\n",
       "       [9.84807753e+00, 1.73648178e+00],\n",
       "       [9.81928697e+00, 1.89251244e+00],\n",
       "       [9.78802446e+00, 2.04806668e+00],\n",
       "       [9.75429787e+00, 2.20310533e+00],\n",
       "       [9.71811568e+00, 2.35758936e+00],\n",
       "       [9.67948701e+00, 2.51147987e+00],\n",
       "       [9.63842159e+00, 2.66473814e+00],\n",
       "       [9.59492974e+00, 2.81732557e+00],\n",
       "       [9.54902241e+00, 2.96920375e+00],\n",
       "       [9.50071118e+00, 3.12033446e+00],\n",
       "       [9.45000819e+00, 3.27067963e+00],\n",
       "       [9.39692621e+00, 3.42020143e+00],\n",
       "       [9.34147860e+00, 3.56886222e+00],\n",
       "       [9.28367933e+00, 3.71662456e+00],\n",
       "       [9.22354294e+00, 3.86345126e+00],\n",
       "       [9.16108457e+00, 4.00930535e+00],\n",
       "       [9.09631995e+00, 4.15415013e+00],\n",
       "       [9.02926538e+00, 4.29794912e+00],\n",
       "       [8.95993774e+00, 4.44066613e+00],\n",
       "       [8.88835449e+00, 4.58226522e+00],\n",
       "       [8.81453363e+00, 4.72271075e+00],\n",
       "       [8.73849377e+00, 4.86196736e+00],\n",
       "       [8.66025404e+00, 5.00000000e+00],\n",
       "       [8.57983413e+00, 5.13677392e+00],\n",
       "       [8.49725430e+00, 5.27225468e+00],\n",
       "       [8.41253533e+00, 5.40640817e+00],\n",
       "       [8.32569855e+00, 5.53920064e+00],\n",
       "       [8.23676581e+00, 5.67059864e+00],\n",
       "       [8.14575952e+00, 5.80056910e+00],\n",
       "       [8.05270258e+00, 5.92907929e+00],\n",
       "       [7.95761841e+00, 6.05609687e+00],\n",
       "       [7.86053095e+00, 6.18158986e+00],\n",
       "       [7.76146464e+00, 6.30552667e+00],\n",
       "       [7.66044443e+00, 6.42787610e+00],\n",
       "       [7.55749574e+00, 6.54860734e+00],\n",
       "       [7.45264450e+00, 6.66769001e+00],\n",
       "       [7.34591709e+00, 6.78509412e+00],\n",
       "       [7.23734038e+00, 6.90079011e+00],\n",
       "       [7.12694171e+00, 7.01474888e+00],\n",
       "       [7.01474888e+00, 7.12694171e+00],\n",
       "       [6.90079011e+00, 7.23734038e+00],\n",
       "       [6.78509412e+00, 7.34591709e+00],\n",
       "       [6.66769001e+00, 7.45264450e+00],\n",
       "       [6.54860734e+00, 7.55749574e+00],\n",
       "       [6.42787610e+00, 7.66044443e+00],\n",
       "       [6.30552667e+00, 7.76146464e+00],\n",
       "       [6.18158986e+00, 7.86053095e+00],\n",
       "       [6.05609687e+00, 7.95761841e+00],\n",
       "       [5.92907929e+00, 8.05270258e+00],\n",
       "       [5.80056910e+00, 8.14575952e+00],\n",
       "       [5.67059864e+00, 8.23676581e+00],\n",
       "       [5.53920064e+00, 8.32569855e+00],\n",
       "       [5.40640817e+00, 8.41253533e+00],\n",
       "       [5.27225468e+00, 8.49725430e+00],\n",
       "       [5.13677392e+00, 8.57983413e+00],\n",
       "       [5.00000000e+00, 8.66025404e+00],\n",
       "       [4.86196736e+00, 8.73849377e+00],\n",
       "       [4.72271075e+00, 8.81453363e+00],\n",
       "       [4.58226522e+00, 8.88835449e+00],\n",
       "       [4.44066613e+00, 8.95993774e+00],\n",
       "       [4.29794912e+00, 9.02926538e+00],\n",
       "       [4.15415013e+00, 9.09631995e+00],\n",
       "       [4.00930535e+00, 9.16108457e+00],\n",
       "       [3.86345126e+00, 9.22354294e+00],\n",
       "       [3.71662456e+00, 9.28367933e+00],\n",
       "       [3.56886222e+00, 9.34147860e+00],\n",
       "       [3.42020143e+00, 9.39692621e+00],\n",
       "       [3.27067963e+00, 9.45000819e+00],\n",
       "       [3.12033446e+00, 9.50071118e+00],\n",
       "       [2.96920375e+00, 9.54902241e+00],\n",
       "       [2.81732557e+00, 9.59492974e+00],\n",
       "       [2.66473814e+00, 9.63842159e+00],\n",
       "       [2.51147987e+00, 9.67948701e+00],\n",
       "       [2.35758936e+00, 9.71811568e+00],\n",
       "       [2.20310533e+00, 9.75429787e+00],\n",
       "       [2.04806668e+00, 9.78802446e+00],\n",
       "       [1.89251244e+00, 9.81928697e+00],\n",
       "       [1.73648178e+00, 9.84807753e+00],\n",
       "       [1.58001396e+00, 9.87438889e+00],\n",
       "       [1.42314838e+00, 9.89821442e+00],\n",
       "       [1.26592454e+00, 9.91954813e+00],\n",
       "       [1.10838200e+00, 9.93838464e+00],\n",
       "       [9.50560433e-01, 9.95471923e+00],\n",
       "       [7.92499569e-01, 9.96854776e+00],\n",
       "       [6.34239197e-01, 9.97986676e+00],\n",
       "       [4.75819158e-01, 9.98867339e+00],\n",
       "       [3.17279335e-01, 9.99496542e+00],\n",
       "       [1.58659638e-01, 9.99874128e+00],\n",
       "       [6.12323400e-16, 1.00000000e+01]])"
      ]
     },
     "execution_count": 26,
     "metadata": {},
     "output_type": "execute_result"
    }
   ],
   "source": [
    "#we do as following to feed the vos to the function\n",
    "np.array([vxs, vys]).T"
   ]
  },
  {
   "cell_type": "code",
   "execution_count": 29,
   "id": "2ae4d48b",
   "metadata": {},
   "outputs": [],
   "source": [
    "ps = Projectiles(ro=[0,0],\n",
    "                vos=np.array([vxs, vys]).T,\n",
    "                g=9.8,\n",
    "                t=np.linspace(0,3,300))"
   ]
  },
  {
   "cell_type": "code",
   "execution_count": 30,
   "id": "f5e128c1",
   "metadata": {},
   "outputs": [
    {
     "data": {
      "image/png": "[encoded data removed]",
      "text/plain": [
       "<Figure size 720x288 with 2 Axes>"
      ]
     },
     "metadata": {
      "needs_background": "light"
     },
     "output_type": "display_data"
    }
   ],
   "source": [
    "fig = plt.figure(figsize=(10,4))\n",
    "plt.subplot(121)\n",
    "plt.plot(thetas, ps.max_heights())\n",
    "plt.xlabel(\"Launch Angle\")\n",
    "plt.ylabel(\"Max Height\")\n",
    "plt.subplot(122)\n",
    "plt.plot(thetas, ps.x_landings())\n",
    "plt.xlabel(\"Launch Angle\")\n",
    "plt.ylabel(\"x landing\")\n",
    "plt.show()"
   ]
  },
  {
   "cell_type": "markdown",
   "id": "894a8211",
   "metadata": {},
   "source": [
    "#### Projectile motion in more depth"
   ]
  },
  {
   "cell_type": "code",
   "execution_count": 35,
   "id": "20624805",
   "metadata": {},
   "outputs": [],
   "source": [
    "class Projectile():\n",
    "    def __init__(self,r0,v0,t,F,m,*args):\n",
    "        self.t = t\n",
    "        self.x0, self.y0 = r0\n",
    "        self.vx0, self.vy0 = v0\n",
    "        self.F = F\n",
    "        self.m = m\n",
    "        self.args = args\n",
    "    def solve_motion(self):\n",
    "        def dSdt(t, S, *args):\n",
    "            x, vx, y, vy = S\n",
    "            return [vx, self.F(t,x,y,vx,vy,m,*args)[0]/self.m,\n",
    "                    vy, self.F(t,x,y,vx,vy,m,*args)[1]/self.m]\n",
    "        self.solution = solve_ivp(dSdt, [min(self.t), max(self.t)],\n",
    "                                  [self.x0,self.vx0,self.y0,self.vy0],\n",
    "                                  t_eval=self.t, args=self.args)\n",
    "        self.x, self.vx, self.y, self.vy = self.solution.y\n",
    "    def get_peak_y(self):\n",
    "        return max(self.y)\n",
    "    def get_peak_x(self):\n",
    "        return self.x[np.argmax(self.y)]\n",
    "    def get_peak_t(self):\n",
    "        return self.t[np.argmax(self.y)]\n",
    "    def get_x_landing(self):\n",
    "        x_after_peak = self.x[self.t>self.get_peak_t()]\n",
    "        y_after_peak = self.y[self.t>self.get_peak_t()]\n",
    "        return x_after_peak[np.argmin(np.abs(y_after_peak))]"
   ]
  },
  {
   "cell_type": "code",
   "execution_count": 36,
   "id": "05079cfc",
   "metadata": {},
   "outputs": [],
   "source": [
    "#force_1 for quadratic air friction\n",
    "#force_2 for linear air friction\n",
    "def force_1(t,x,vx,y,vy,m,g,b):\n",
    "    return [-b*np.sqrt(vx**2+vy**2)*vx, -b*np.sqrt(vx**2+vy**2)*vy - m*g]\n",
    "def force_2(t,x,vx,y,vy,m,g,b):\n",
    "    return [-b*vx, -b*vy - m*g]"
   ]
  },
  {
   "cell_type": "code",
   "execution_count": 37,
   "id": "4e9dc8a3",
   "metadata": {},
   "outputs": [],
   "source": [
    "# Conditions\n",
    "r0=[0,0]\n",
    "v0=[10*np.cos(np.pi/4),10*np.sin(np.pi/4)]\n",
    "t = np.linspace(0,1,1000)\n",
    "m=1\n",
    "g = 9.8\n",
    "b1 = 1\n",
    "b2 = 5\n",
    "\n",
    "# Paricle Motion\n",
    "p1 = Projectile(r0, v0, t, force_1, m, g, b1)  \n",
    "p2 = Projectile(r0, v0, t, force_2, m, g, b2)  \n",
    "p1.solve_motion()\n",
    "p2.solve_motion()"
   ]
  },
  {
   "cell_type": "code",
   "execution_count": 38,
   "id": "bd0ab805",
   "metadata": {},
   "outputs": [
    {
     "data": {
      "image/png": "[encoded data removed]",
      "text/plain": [
       "<Figure size 432x216 with 1 Axes>"
      ]
     },
     "metadata": {
      "needs_background": "light"
     },
     "output_type": "display_data"
    }
   ],
   "source": [
    "plt.figure(figsize=(6,3))\n",
    "plt.plot(p1.x,p1.y)\n",
    "plt.plot(p2.x,p2.y)\n",
    "plt.axvline(p1.get_peak_x(), color='k', ls='--', label='Quadratic Friction')\n",
    "plt.axvline(p2.get_peak_x(), color='k', ls='--', label='Linear Friction')\n",
    "plt.ylim(bottom=0)\n",
    "plt.grid()\n",
    "plt.xlabel('X-Distance')\n",
    "plt.ylabel('Y-Distance')\n",
    "plt.show()"
   ]
  },
  {
   "cell_type": "code",
   "execution_count": null,
   "id": "1359ab0d",
   "metadata": {},
   "outputs": [],
   "source": []
  }
 ],
 "metadata": {
  "kernelspec": {
   "display_name": "Python 3 (ipykernel)",
   "language": "python",
   "name": "python3"
  },
  "language_info": {
   "codemirror_mode": {
    "name": "ipython",
    "version": 3
   },
   "file_extension": ".py",
   "mimetype": "text/x-python",
   "name": "python",
   "nbconvert_exporter": "python",
   "pygments_lexer": "ipython3",
   "version": "3.10.5"
  }
 },
 "nbformat": 4,
 "nbformat_minor": 5
}
