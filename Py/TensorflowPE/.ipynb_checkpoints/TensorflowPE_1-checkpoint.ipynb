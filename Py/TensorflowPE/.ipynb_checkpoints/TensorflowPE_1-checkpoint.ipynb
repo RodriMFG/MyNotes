{
 "cells": [
  {
   "cell_type": "markdown",
   "id": "d8d0d5c2",
   "metadata": {},
   "source": [
    "## Tensorflow: Tensors"
   ]
  },
  {
   "cell_type": "code",
   "execution_count": 1,
   "id": "b543bc42",
   "metadata": {},
   "outputs": [],
   "source": [
    "import tensorflow as tf"
   ]
  },
  {
   "cell_type": "markdown",
   "id": "bb497286",
   "metadata": {},
   "source": [
    "We can define a variaty of variables with this library"
   ]
  },
  {
   "cell_type": "code",
   "execution_count": 3,
   "id": "3eb42d54",
   "metadata": {},
   "outputs": [
    {
     "data": {
      "text/plain": [
       "<tf.Tensor: shape=(), dtype=int32, numpy=4>"
      ]
     },
     "execution_count": 3,
     "metadata": {},
     "output_type": "execute_result"
    }
   ],
   "source": [
    "#rank 0 tensor (scalar)\n",
    "tf.constant(4)"
   ]
  },
  {
   "cell_type": "code",
   "execution_count": 4,
   "id": "6383b29d",
   "metadata": {},
   "outputs": [
    {
     "data": {
      "text/plain": [
       "<tf.Tensor: shape=(1, 1), dtype=float32, numpy=array([[4.]], dtype=float32)>"
      ]
     },
     "execution_count": 4,
     "metadata": {},
     "output_type": "execute_result"
    }
   ],
   "source": [
    "#rank 1 tensor (vector)\n",
    "tf.constant(4, shape=(1,1), dtype=tf.float32)"
   ]
  },
  {
   "cell_type": "code",
   "execution_count": 5,
   "id": "c7bf016b",
   "metadata": {},
   "outputs": [
    {
     "data": {
      "text/plain": [
       "<tf.Tensor: shape=(2, 3), dtype=int32, numpy=\n",
       "array([[1, 2, 3],\n",
       "       [4, 5, 6]], dtype=int32)>"
      ]
     },
     "execution_count": 5,
     "metadata": {},
     "output_type": "execute_result"
    }
   ],
   "source": [
    "#rank 2 tensor (matrix)\n",
    "x = tf.constant([[1, 2, 3], [4, 5, 6]])\n",
    "x"
   ]
  },
  {
   "cell_type": "markdown",
   "id": "9acf19fb",
   "metadata": {},
   "source": [
    "There's also functions similar to numpy's"
   ]
  },
  {
   "cell_type": "code",
   "execution_count": 6,
   "id": "a5d38b5c",
   "metadata": {},
   "outputs": [
    {
     "data": {
      "text/plain": [
       "(<tf.Tensor: shape=(2, 3), dtype=float32, numpy=\n",
       " array([[1., 1., 1.],\n",
       "        [1., 1., 1.]], dtype=float32)>,\n",
       " <tf.Tensor: shape=(3, 2), dtype=float32, numpy=\n",
       " array([[0., 0.],\n",
       "        [0., 0.],\n",
       "        [0., 0.]], dtype=float32)>)"
      ]
     },
     "execution_count": 6,
     "metadata": {},
     "output_type": "execute_result"
    }
   ],
   "source": [
    "x = tf.ones([2, 3])\n",
    "y = tf.zeros([3, 2])\n",
    "x, y"
   ]
  },
  {
   "cell_type": "code",
   "execution_count": 7,
   "id": "467b3024",
   "metadata": {},
   "outputs": [
    {
     "data": {
      "text/plain": [
       "<tf.Tensor: shape=(4, 4), dtype=float32, numpy=\n",
       "array([[1., 0., 0., 0.],\n",
       "       [0., 1., 0., 0.],\n",
       "       [0., 0., 1., 0.],\n",
       "       [0., 0., 0., 1.]], dtype=float32)>"
      ]
     },
     "execution_count": 7,
     "metadata": {},
     "output_type": "execute_result"
    }
   ],
   "source": [
    "#identity tensor\n",
    "tf.eye(4)"
   ]
  },
  {
   "cell_type": "code",
   "execution_count": 8,
   "id": "de788ac1",
   "metadata": {},
   "outputs": [
    {
     "data": {
      "text/plain": [
       "(<tf.Tensor: shape=(3, 3), dtype=float32, numpy=\n",
       " array([[-1.1545218 , -0.5884992 ,  1.7714558 ],\n",
       "        [-1.4808142 ,  0.19517156, -1.7357781 ],\n",
       "        [ 0.8126483 , -0.37024713, -1.4400164 ]], dtype=float32)>,\n",
       " <tf.Tensor: shape=(3, 3), dtype=float32, numpy=\n",
       " array([[0.27315974, 0.8313819 , 0.1250161 ],\n",
       "        [0.94892263, 0.90302944, 0.38174677],\n",
       "        [0.9437815 , 0.22412527, 0.8981049 ]], dtype=float32)>)"
      ]
     },
     "execution_count": 8,
     "metadata": {},
     "output_type": "execute_result"
    }
   ],
   "source": [
    "#for random values we use (normal distribution)\n",
    "x = tf.random.normal([3, 3], mean=0, stddev=1)\n",
    "y = tf.random.uniform([3, 3], minval=0, maxval=1)\n",
    "x, y"
   ]
  },
  {
   "cell_type": "code",
   "execution_count": 14,
   "id": "fe4d1a0a",
   "metadata": {},
   "outputs": [],
   "source": [
    "x = tf.range(10)"
   ]
  },
  {
   "cell_type": "code",
   "execution_count": 10,
   "id": "a318cce3",
   "metadata": {},
   "outputs": [
    {
     "data": {
      "text/plain": [
       "<tf.Tensor: shape=(3,), dtype=int32, numpy=array([2, 3, 4], dtype=int32)>"
      ]
     },
     "execution_count": 10,
     "metadata": {},
     "output_type": "execute_result"
    }
   ],
   "source": [
    "tf.range(2, 5)"
   ]
  },
  {
   "cell_type": "code",
   "execution_count": 15,
   "id": "d707f5f8",
   "metadata": {},
   "outputs": [
    {
     "data": {
      "text/plain": [
       "<tf.Tensor: shape=(10,), dtype=float32, numpy=array([0., 1., 2., 3., 4., 5., 6., 7., 8., 9.], dtype=float32)>"
      ]
     },
     "execution_count": 15,
     "metadata": {},
     "output_type": "execute_result"
    }
   ],
   "source": [
    "#to change data type\n",
    "x = tf.cast(x, dtype=tf.float32)\n",
    "x"
   ]
  },
  {
   "cell_type": "markdown",
   "id": "65da5656",
   "metadata": {},
   "source": [
    "#### Operations"
   ]
  },
  {
   "cell_type": "code",
   "execution_count": 17,
   "id": "ad39d5fa",
   "metadata": {},
   "outputs": [
    {
     "data": {
      "text/plain": [
       "<tf.Tensor: shape=(3,), dtype=int32, numpy=array([5, 7, 9], dtype=int32)>"
      ]
     },
     "execution_count": 17,
     "metadata": {},
     "output_type": "execute_result"
    }
   ],
   "source": [
    "x = tf.constant([1,2,3])\n",
    "y = tf.constant([4,5,6])\n",
    "z = tf.add(x,y) #or x + y\n",
    "z"
   ]
  },
  {
   "cell_type": "code",
   "execution_count": 19,
   "id": "6d7b3b5d",
   "metadata": {},
   "outputs": [
    {
     "data": {
      "text/plain": [
       "<tf.Tensor: shape=(3,), dtype=int32, numpy=array([ 4, 10, 18], dtype=int32)>"
      ]
     },
     "execution_count": 19,
     "metadata": {},
     "output_type": "execute_result"
    }
   ],
   "source": [
    "x*y #element by element product"
   ]
  },
  {
   "cell_type": "code",
   "execution_count": 20,
   "id": "49acee9b",
   "metadata": {},
   "outputs": [
    {
     "data": {
      "text/plain": [
       "<tf.Tensor: shape=(3,), dtype=float64, numpy=array([4. , 2.5, 2. ])>"
      ]
     },
     "execution_count": 20,
     "metadata": {},
     "output_type": "execute_result"
    }
   ],
   "source": [
    "y / x"
   ]
  },
  {
   "cell_type": "code",
   "execution_count": 25,
   "id": "9e064ebe",
   "metadata": {},
   "outputs": [
    {
     "data": {
      "text/plain": [
       "<tf.Tensor: shape=(), dtype=int32, numpy=32>"
      ]
     },
     "execution_count": 25,
     "metadata": {},
     "output_type": "execute_result"
    }
   ],
   "source": [
    "#dot product\n",
    "z = tf.tensordot(x,y,axes=1)\n",
    "z"
   ]
  },
  {
   "cell_type": "code",
   "execution_count": 26,
   "id": "ffc7dcca",
   "metadata": {},
   "outputs": [
    {
     "data": {
      "text/plain": [
       "<tf.Tensor: shape=(3,), dtype=int32, numpy=array([1, 4, 9], dtype=int32)>"
      ]
     },
     "execution_count": 26,
     "metadata": {},
     "output_type": "execute_result"
    }
   ],
   "source": [
    "x ** 2"
   ]
  },
  {
   "cell_type": "code",
   "execution_count": 29,
   "id": "123ce3e8",
   "metadata": {},
   "outputs": [
    {
     "name": "stdout",
     "output_type": "stream",
     "text": [
      "tf.Tensor(\n",
      "[[-0.15493092  2.1886363   0.22731188 -1.3232126 ]\n",
      " [-0.59326166  0.29608417 -0.6645546   1.1669985 ]], shape=(2, 4), dtype=float32) tf.Tensor(\n",
      "[[-1.4357852  -0.10696547 -0.29036468]\n",
      " [ 0.23805527 -0.13064863  0.49309406]\n",
      " [-0.09327327 -1.1396265  -0.26781276]\n",
      " [ 0.5418366  -0.21675478  1.3257905 ]], shape=(4, 3), dtype=float32)\n"
     ]
    },
    {
     "data": {
      "text/plain": [
       "<tf.Tensor: shape=(2, 3), dtype=float32, numpy=\n",
       "array([[ 0.00529677, -0.24160805, -0.69098985],\n",
       "       [ 1.6165884 ,  0.529167  ,  2.0434313 ]], dtype=float32)>"
      ]
     },
     "execution_count": 29,
     "metadata": {},
     "output_type": "execute_result"
    }
   ],
   "source": [
    "#matrix multiplication\n",
    "x = tf.random.normal((2,4))\n",
    "y = tf.random.normal((4,3))\n",
    "print(x, y)\n",
    "z = tf.matmul(x,y) #or x @ y\n",
    "z"
   ]
  },
  {
   "cell_type": "code",
   "execution_count": 65,
   "id": "b62d78ab",
   "metadata": {},
   "outputs": [
    {
     "data": {
      "text/plain": [
       "<tf.Tensor: shape=(2, 4), dtype=int32, numpy=\n",
       "array([[1, 2, 3, 4],\n",
       "       [5, 6, 7, 8]], dtype=int32)>"
      ]
     },
     "execution_count": 65,
     "metadata": {},
     "output_type": "execute_result"
    }
   ],
   "source": [
    "#slicing\n",
    "y = tf.constant([[1,2,3,4],[5,6,7,8]])\n",
    "y"
   ]
  },
  {
   "cell_type": "code",
   "execution_count": 66,
   "id": "7dbcd409",
   "metadata": {},
   "outputs": [
    {
     "data": {
      "text/plain": [
       "<tf.Tensor: shape=(4,), dtype=int32, numpy=array([1, 2, 3, 4], dtype=int32)>"
      ]
     },
     "execution_count": 66,
     "metadata": {},
     "output_type": "execute_result"
    }
   ],
   "source": [
    "y[0]"
   ]
  },
  {
   "cell_type": "code",
   "execution_count": 68,
   "id": "61de6393",
   "metadata": {},
   "outputs": [
    {
     "data": {
      "text/plain": [
       "(<tf.Tensor: shape=(4,), dtype=int32, numpy=array([1, 2, 3, 4], dtype=int32)>,\n",
       " <tf.Tensor: shape=(4,), dtype=int32, numpy=array([5, 6, 7, 8], dtype=int32)>)"
      ]
     },
     "execution_count": 68,
     "metadata": {},
     "output_type": "execute_result"
    }
   ],
   "source": [
    "y[0,:], y[1,:]"
   ]
  },
  {
   "cell_type": "code",
   "execution_count": 71,
   "id": "ee80f9a3",
   "metadata": {},
   "outputs": [
    {
     "data": {
      "text/plain": [
       "<tf.Tensor: shape=(), dtype=int32, numpy=6>"
      ]
     },
     "execution_count": 71,
     "metadata": {},
     "output_type": "execute_result"
    }
   ],
   "source": [
    "y[1,1]"
   ]
  },
  {
   "cell_type": "code",
   "execution_count": 74,
   "id": "be004076",
   "metadata": {},
   "outputs": [
    {
     "data": {
      "text/plain": [
       "(<tf.Tensor: shape=(2,), dtype=int32, numpy=array([2, 6], dtype=int32)>,\n",
       " <tf.Tensor: shape=(2,), dtype=int32, numpy=array([1, 5], dtype=int32)>,\n",
       " <tf.Tensor: shape=(2,), dtype=int32, numpy=array([4, 8], dtype=int32)>)"
      ]
     },
     "execution_count": 74,
     "metadata": {},
     "output_type": "execute_result"
    }
   ],
   "source": [
    "y[:,1], y[:,0], y[:,3]"
   ]
  },
  {
   "cell_type": "code",
   "execution_count": 75,
   "id": "5dc5b9f3",
   "metadata": {},
   "outputs": [
    {
     "data": {
      "text/plain": [
       "<tf.Tensor: shape=(2, 3), dtype=float32, numpy=\n",
       "array([[ 0.92325395,  1.0039827 ,  0.53182334],\n",
       "       [ 0.58448416, -0.72677946, -0.59221756]], dtype=float32)>"
      ]
     },
     "execution_count": 75,
     "metadata": {},
     "output_type": "execute_result"
    }
   ],
   "source": [
    "#reshaping\n",
    "x = tf.random.normal((2, 3))\n",
    "x"
   ]
  },
  {
   "cell_type": "code",
   "execution_count": 76,
   "id": "e5d2f345",
   "metadata": {},
   "outputs": [
    {
     "data": {
      "text/plain": [
       "<tf.Tensor: shape=(6,), dtype=float32, numpy=\n",
       "array([ 0.92325395,  1.0039827 ,  0.53182334,  0.58448416, -0.72677946,\n",
       "       -0.59221756], dtype=float32)>"
      ]
     },
     "execution_count": 76,
     "metadata": {},
     "output_type": "execute_result"
    }
   ],
   "source": [
    "x = tf.reshape(x, (6))\n",
    "x"
   ]
  },
  {
   "cell_type": "code",
   "execution_count": 77,
   "id": "592c2b8a",
   "metadata": {},
   "outputs": [
    {
     "data": {
      "text/plain": [
       "<tf.Tensor: shape=(3, 2), dtype=float32, numpy=\n",
       "array([[ 0.92325395,  1.0039827 ],\n",
       "       [ 0.53182334,  0.58448416],\n",
       "       [-0.72677946, -0.59221756]], dtype=float32)>"
      ]
     },
     "execution_count": 77,
     "metadata": {},
     "output_type": "execute_result"
    }
   ],
   "source": [
    "x = tf.reshape(x, (-1, 2)) #with -1 it automatically determines shape\n",
    "x"
   ]
  },
  {
   "cell_type": "code",
   "execution_count": 78,
   "id": "57c8dce7",
   "metadata": {},
   "outputs": [
    {
     "data": {
      "text/plain": [
       "array([[ 0.92325395,  1.0039827 ],\n",
       "       [ 0.53182334,  0.58448416],\n",
       "       [-0.72677946, -0.59221756]], dtype=float32)"
      ]
     },
     "execution_count": 78,
     "metadata": {},
     "output_type": "execute_result"
    }
   ],
   "source": [
    "#converting to numpy\n",
    "y = x.numpy()\n",
    "y"
   ]
  },
  {
   "cell_type": "code",
   "execution_count": 79,
   "id": "c5f32749",
   "metadata": {},
   "outputs": [
    {
     "data": {
      "text/plain": [
       "(tensorflow.python.framework.ops.EagerTensor, numpy.ndarray)"
      ]
     },
     "execution_count": 79,
     "metadata": {},
     "output_type": "execute_result"
    }
   ],
   "source": [
    "type(x), type(y)"
   ]
  },
  {
   "cell_type": "code",
   "execution_count": 80,
   "id": "da7673b9",
   "metadata": {},
   "outputs": [
    {
     "data": {
      "text/plain": [
       "tensorflow.python.framework.ops.EagerTensor"
      ]
     },
     "execution_count": 80,
     "metadata": {},
     "output_type": "execute_result"
    }
   ],
   "source": [
    "y = tf.convert_to_tensor(x)\n",
    "type(y)"
   ]
  },
  {
   "cell_type": "markdown",
   "id": "88a57606",
   "metadata": {},
   "source": [
    "We can use any data type to fill our tensors, including strings and booleans"
   ]
  },
  {
   "cell_type": "markdown",
   "id": "ee0ba0a0",
   "metadata": {},
   "source": [
    "Finally, let's take a look at a general Tensorflow variable (like a constant, but isn't inmutable):"
   ]
  },
  {
   "cell_type": "code",
   "execution_count": 81,
   "id": "02e594c4",
   "metadata": {},
   "outputs": [
    {
     "data": {
      "text/plain": [
       "<tf.Variable 'Variable:0' shape=(3,) dtype=int32, numpy=array([1, 2, 3], dtype=int32)>"
      ]
     },
     "execution_count": 81,
     "metadata": {},
     "output_type": "execute_result"
    }
   ],
   "source": [
    "x = tf.Variable([1,2,3])\n",
    "x"
   ]
  },
  {
   "cell_type": "code",
   "execution_count": 82,
   "id": "68949fc6",
   "metadata": {},
   "outputs": [
    {
     "data": {
      "text/plain": [
       "<tf.Tensor: shape=(3,), dtype=int32, numpy=array([2, 3, 4], dtype=int32)>"
      ]
     },
     "execution_count": 82,
     "metadata": {},
     "output_type": "execute_result"
    }
   ],
   "source": [
    "x = x + 1\n",
    "x"
   ]
  },
  {
   "cell_type": "code",
   "execution_count": null,
   "id": "61178419",
   "metadata": {},
   "outputs": [],
   "source": []
  }
 ],
 "metadata": {
  "kernelspec": {
   "display_name": "Python 3 (ipykernel)",
   "language": "python",
   "name": "python3"
  },
  "language_info": {
   "codemirror_mode": {
    "name": "ipython",
    "version": 3
   },
   "file_extension": ".py",
   "mimetype": "text/x-python",
   "name": "python",
   "nbconvert_exporter": "python",
   "pygments_lexer": "ipython3",
   "version": "3.10.5"
  }
 },
 "nbformat": 4,
 "nbformat_minor": 5
}
