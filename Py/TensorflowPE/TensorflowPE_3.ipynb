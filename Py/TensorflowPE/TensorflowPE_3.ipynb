{
 "cells": [
  {
   "cell_type": "markdown",
   "id": "f1ef5abf",
   "metadata": {},
   "source": [
    "## Keras api for sequential neural networks"
   ]
  },
  {
   "cell_type": "code",
   "execution_count": 45,
   "id": "08424052",
   "metadata": {},
   "outputs": [],
   "source": [
    "import numpy as np\n",
    "import matplotlib.pyplot as plt\n",
    "import tensorflow as tf\n",
    "from tensorflow import keras"
   ]
  },
  {
   "cell_type": "code",
   "execution_count": 46,
   "id": "8fa44b84",
   "metadata": {},
   "outputs": [],
   "source": [
    "mnist = keras.datasets.mnist"
   ]
  },
  {
   "cell_type": "code",
   "execution_count": 47,
   "id": "4814d167",
   "metadata": {},
   "outputs": [],
   "source": [
    "(x_train, y_train), (x_test, y_test) = mnist.load_data()"
   ]
  },
  {
   "cell_type": "code",
   "execution_count": 48,
   "id": "393e9480",
   "metadata": {},
   "outputs": [
    {
     "data": {
      "text/plain": [
       "((60000,), (60000, 28, 28))"
      ]
     },
     "execution_count": 48,
     "metadata": {},
     "output_type": "execute_result"
    }
   ],
   "source": [
    "y_train.shape, x_train.shape"
   ]
  },
  {
   "cell_type": "code",
   "execution_count": 53,
   "id": "08a27ea7",
   "metadata": {},
   "outputs": [
    {
     "data": {
      "image/png": "[encoded data removed]",
      "text/plain": [
       "<Figure size 432x288 with 2 Axes>"
      ]
     },
     "metadata": {
      "needs_background": "light"
     },
     "output_type": "display_data"
    }
   ],
   "source": [
    "plt.imshow(x_test[3])\n",
    "plt.title(f'Number is {y_test[3]}')\n",
    "plt.colorbar()\n",
    "plt.show()"
   ]
  },
  {
   "cell_type": "code",
   "execution_count": 54,
   "id": "aa564e6e",
   "metadata": {},
   "outputs": [],
   "source": [
    "#normalize x\n",
    "x_train, x_test = x_train / 255.0, x_test / 255.0"
   ]
  },
  {
   "cell_type": "code",
   "execution_count": 55,
   "id": "0db6a8d2",
   "metadata": {},
   "outputs": [],
   "source": [
    "model = keras.models.Sequential([\n",
    "    keras.layers.Flatten(input_shape=(28,28)), #make are 28x28 ims to vectors\n",
    "    keras.layers.Dense(128, activation='relu'), #layer with an output of 128\n",
    "    keras.layers.Dense(10), #output with a argmax in the selected number\n",
    "])"
   ]
  },
  {
   "cell_type": "code",
   "execution_count": 56,
   "id": "84043910",
   "metadata": {},
   "outputs": [
    {
     "name": "stdout",
     "output_type": "stream",
     "text": [
      "Model: \"sequential_6\"\n",
      "_________________________________________________________________\n",
      " Layer (type)                Output Shape              Param #   \n",
      "=================================================================\n",
      " flatten_5 (Flatten)         (None, 784)               0         \n",
      "                                                                 \n",
      " dense_9 (Dense)             (None, 128)               100480    \n",
      "                                                                 \n",
      " dense_10 (Dense)            (None, 10)                1290      \n",
      "                                                                 \n",
      "=================================================================\n",
      "Total params: 101,770\n",
      "Trainable params: 101,770\n",
      "Non-trainable params: 0\n",
      "_________________________________________________________________\n"
     ]
    }
   ],
   "source": [
    "model.summary()"
   ]
  },
  {
   "cell_type": "code",
   "execution_count": 57,
   "id": "81b7f4c1",
   "metadata": {},
   "outputs": [],
   "source": [
    "#loss and optimizer\n",
    "loss = keras.losses.SparseCategoricalCrossentropy(from_logits=True)\n",
    "optim = keras.optimizers.Adam(learning_rate=0.001)\n",
    "metrics = [\"accuracy\"]"
   ]
  },
  {
   "cell_type": "code",
   "execution_count": 58,
   "id": "9616808c",
   "metadata": {},
   "outputs": [],
   "source": [
    "#define the loss and optimizer\n",
    "model.compile(loss=loss, optimizer=optim, metrics=metrics)"
   ]
  },
  {
   "cell_type": "markdown",
   "id": "98df3a7f",
   "metadata": {},
   "source": [
    "Training"
   ]
  },
  {
   "cell_type": "code",
   "execution_count": 59,
   "id": "b78843ea",
   "metadata": {},
   "outputs": [],
   "source": [
    "batch_size = 64\n",
    "epochs = 10"
   ]
  },
  {
   "cell_type": "code",
   "execution_count": 60,
   "id": "d98b4324",
   "metadata": {},
   "outputs": [
    {
     "name": "stdout",
     "output_type": "stream",
     "text": [
      "Epoch 1/10\n",
      "938/938 - 1s - loss: 0.3075 - accuracy: 0.9138 - 1s/epoch - 1ms/step\n",
      "Epoch 2/10\n",
      "938/938 - 1s - loss: 0.1401 - accuracy: 0.9596 - 1s/epoch - 1ms/step\n",
      "Epoch 3/10\n",
      "938/938 - 1s - loss: 0.0973 - accuracy: 0.9715 - 1s/epoch - 1ms/step\n",
      "Epoch 4/10\n",
      "938/938 - 1s - loss: 0.0729 - accuracy: 0.9783 - 1s/epoch - 1ms/step\n",
      "Epoch 5/10\n",
      "938/938 - 1s - loss: 0.0582 - accuracy: 0.9825 - 1s/epoch - 1ms/step\n",
      "Epoch 6/10\n",
      "938/938 - 1s - loss: 0.0461 - accuracy: 0.9864 - 1s/epoch - 1ms/step\n",
      "Epoch 7/10\n",
      "938/938 - 1s - loss: 0.0378 - accuracy: 0.9887 - 1s/epoch - 1ms/step\n",
      "Epoch 8/10\n",
      "938/938 - 1s - loss: 0.0303 - accuracy: 0.9913 - 1s/epoch - 1ms/step\n",
      "Epoch 9/10\n",
      "938/938 - 1s - loss: 0.0253 - accuracy: 0.9925 - 1s/epoch - 1ms/step\n",
      "Epoch 10/10\n",
      "938/938 - 1s - loss: 0.0201 - accuracy: 0.9944 - 1s/epoch - 1ms/step\n"
     ]
    },
    {
     "data": {
      "text/plain": [
       "<keras.callbacks.History at 0x7f5493bcc640>"
      ]
     },
     "execution_count": 60,
     "metadata": {},
     "output_type": "execute_result"
    }
   ],
   "source": [
    "model.fit(x_train, y_train, batch_size=batch_size, epochs=epochs, shuffle=True, verbose=2)"
   ]
  },
  {
   "cell_type": "markdown",
   "id": "d87fe488",
   "metadata": {},
   "source": [
    "Evaluate"
   ]
  },
  {
   "cell_type": "code",
   "execution_count": 61,
   "id": "d9fe2102",
   "metadata": {},
   "outputs": [
    {
     "name": "stdout",
     "output_type": "stream",
     "text": [
      "157/157 - 0s - loss: 0.0822 - accuracy: 0.9768 - 253ms/epoch - 2ms/step\n"
     ]
    },
    {
     "data": {
      "text/plain": [
       "[0.08217785507440567, 0.9768000245094299]"
      ]
     },
     "execution_count": 61,
     "metadata": {},
     "output_type": "execute_result"
    }
   ],
   "source": [
    "model.evaluate(x_test, y_test, batch_size=batch_size, verbose=2)"
   ]
  },
  {
   "cell_type": "code",
   "execution_count": 63,
   "id": "20317aa3",
   "metadata": {},
   "outputs": [],
   "source": [
    "#predictions\n",
    "prob_model = keras.models.Sequential([\n",
    "    model, #we pass the entire previous model\n",
    "    keras.layers.Softmax() #add a softmax layer to normalize probs\n",
    "])"
   ]
  },
  {
   "cell_type": "code",
   "execution_count": 67,
   "id": "3e86b819",
   "metadata": {},
   "outputs": [
    {
     "data": {
      "image/png": "[encoded data removed]",
      "text/plain": [
       "<Figure size 432x288 with 2 Axes>"
      ]
     },
     "metadata": {
      "needs_background": "light"
     },
     "output_type": "display_data"
    }
   ],
   "source": [
    "plt.imshow(x_test[0])\n",
    "plt.title(f'Number is {y_test[0]}')\n",
    "plt.colorbar()\n",
    "plt.show()"
   ]
  },
  {
   "cell_type": "code",
   "execution_count": 73,
   "id": "317e3788",
   "metadata": {},
   "outputs": [
    {
     "name": "stdout",
     "output_type": "stream",
     "text": [
      "7\n",
      "tf.Tensor(\n",
      "[0.08533674 0.08533674 0.08533675 0.08533677 0.08533674 0.08533674\n",
      " 0.08533674 0.23196916 0.08533674 0.08533677], shape=(10,), dtype=float32) \n",
      " 7\n"
     ]
    }
   ],
   "source": [
    "predictions = prob_model(x_test)\n",
    "print( np.argmax(predictions[0]) )\n",
    "#normalize the prdictions with\n",
    "predictions = tf.nn.softmax(predictions)\n",
    "print( predictions[0], \"\\n\", np.argmax(predictions[0]) )"
   ]
  },
  {
   "cell_type": "code",
   "execution_count": null,
   "id": "88b3ef4f",
   "metadata": {},
   "outputs": [],
   "source": []
  }
 ],
 "metadata": {
  "kernelspec": {
   "display_name": "Python 3 (ipykernel)",
   "language": "python",
   "name": "python3"
  },
  "language_info": {
   "codemirror_mode": {
    "name": "ipython",
    "version": 3
   },
   "file_extension": ".py",
   "mimetype": "text/x-python",
   "name": "python",
   "nbconvert_exporter": "python",
   "pygments_lexer": "ipython3",
   "version": "3.10.5"
  }
 },
 "nbformat": 4,
 "nbformat_minor": 5
}
