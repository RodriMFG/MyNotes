{
 "cells": [
  {
   "cell_type": "markdown",
   "id": "f60d90cd",
   "metadata": {},
   "source": [
    "## PyTorch: Sequential Network"
   ]
  },
  {
   "cell_type": "code",
   "execution_count": 13,
   "id": "f90474a4",
   "metadata": {},
   "outputs": [],
   "source": [
    "import torch\n",
    "import torch.nn as nn\n",
    "from torch.optim import SGD\n",
    "import numpy as np\n",
    "import matplotlib.pyplot as plt\n",
    "import time"
   ]
  },
  {
   "cell_type": "code",
   "execution_count": 14,
   "id": "9cd80791",
   "metadata": {},
   "outputs": [],
   "source": [
    "#Function from the last document\n",
    "\n",
    "x = torch.tensor([[6,2],[5,2],[1,3],[7,6]]).float()\n",
    "y = torch.tensor([1,5,2,5]).float()\n",
    "\n",
    "class MyNeuralNet(nn.Module):\n",
    "    def __init__(self):\n",
    "        super().__init__()\n",
    "        self.Matrix1 = nn.Linear(2,8,bias=False)\n",
    "        self.Matrix2 = nn.Linear(8,1,bias=False)\n",
    "    def forward(self,x):\n",
    "        x = self.Matrix1(x)\n",
    "        x = self.Matrix2(x)\n",
    "        return x.squeeze()\n",
    "    \n",
    "f = MyNeuralNet()\n",
    "opt = SGD(f.parameters(), lr=0.001)\n",
    "L = nn.MSELoss()\n",
    "\n",
    "# Train model\n",
    "losses = []\n",
    "for _ in range(50):\n",
    "    opt.zero_grad() # flush previous epoch's gradient\n",
    "    loss_value = L(f(x), y) #compute loss\n",
    "    loss_value.backward() # compute gradient\n",
    "    opt.step() # Perform iteration using gradient above\n",
    "    losses.append(loss_value.item())"
   ]
  },
  {
   "cell_type": "code",
   "execution_count": 15,
   "id": "185c5de2",
   "metadata": {},
   "outputs": [
    {
     "data": {
      "text/plain": [
       "(tensor([1., 5., 2., 5.]),\n",
       " tensor([3.3759, 2.8806, 1.1016, 4.6796], grad_fn=<SqueezeBackward0>))"
      ]
     },
     "execution_count": 15,
     "metadata": {},
     "output_type": "execute_result"
    }
   ],
   "source": [
    "y, f(x)"
   ]
  },
  {
   "cell_type": "markdown",
   "id": "24bf47c6",
   "metadata": {},
   "source": [
    "This simple network isn' very accurate, this is because of a lack of free parameters. With the two previously defined matrices we end up with only 2 free parameters. We had:  \n",
    "$$\n",
    "f(x) = A_2 A_1 x\n",
    "$$\n",
    "Where this product results in a $2\\times{1}$ matrix."
   ]
  },
  {
   "cell_type": "markdown",
   "id": "f26428e9",
   "metadata": {},
   "source": [
    "Now we want to consider the following model:  \n",
    "$$\n",
    "f_2 (x) = A_2 R(A_1 x)\n",
    "$$\n",
    "Where:  \n",
    "$$\n",
    "R(x) = \n",
    "\\begin{cases}\n",
    "    x \\quad if \\ \\ x > 0 \\\\\n",
    "    0 \\quad if \\ \\ x \\leq 0\n",
    "\\end{cases}\n",
    "$$"
   ]
  },
  {
   "cell_type": "markdown",
   "id": "6bf442c0",
   "metadata": {},
   "source": [
    "$R$ is just the identity function if $x > 0$"
   ]
  },
  {
   "cell_type": "code",
   "execution_count": 16,
   "id": "8ec3199c",
   "metadata": {},
   "outputs": [
    {
     "data": {
      "text/plain": [
       "tensor([[ 4,  6,  2, -1,  6,  2,  5],\n",
       "        [ 1,  6,  2, -6,  5, -3,  5]])"
      ]
     },
     "execution_count": 16,
     "metadata": {},
     "output_type": "execute_result"
    }
   ],
   "source": [
    "#Example\n",
    "x = torch.tensor([[4,6,2,-1,6,2,5],[1,6,2,-6,5,-3,5]])\n",
    "x"
   ]
  },
  {
   "cell_type": "code",
   "execution_count": 17,
   "id": "4cc45344",
   "metadata": {},
   "outputs": [
    {
     "data": {
      "text/plain": [
       "tensor([[4, 6, 2, 0, 6, 2, 5],\n",
       "        [1, 6, 2, 0, 5, 0, 5]])"
      ]
     },
     "execution_count": 17,
     "metadata": {},
     "output_type": "execute_result"
    }
   ],
   "source": [
    "#R function\n",
    "R = nn.ReLU()\n",
    "R(x)"
   ]
  },
  {
   "cell_type": "code",
   "execution_count": 18,
   "id": "e0df3f83",
   "metadata": {},
   "outputs": [],
   "source": [
    "#Another example\n",
    "x = torch.linspace(-3, 3, 100)\n",
    "y = x"
   ]
  },
  {
   "cell_type": "code",
   "execution_count": 19,
   "id": "c3747519",
   "metadata": {},
   "outputs": [
    {
     "data": {
      "image/png": "[encoded data removed]",
      "text/plain": [
       "<Figure size 432x288 with 1 Axes>"
      ]
     },
     "metadata": {
      "needs_background": "light"
     },
     "output_type": "display_data"
    }
   ],
   "source": [
    "plt.plot(x.numpy(),y.numpy())\n",
    "plt.grid()"
   ]
  },
  {
   "cell_type": "code",
   "execution_count": 20,
   "id": "1e538e8f",
   "metadata": {},
   "outputs": [
    {
     "data": {
      "image/png": "[encoded data removed]",
      "text/plain": [
       "<Figure size 432x288 with 1 Axes>"
      ]
     },
     "metadata": {
      "needs_background": "light"
     },
     "output_type": "display_data"
    }
   ],
   "source": [
    "y = R(x)\n",
    "plt.plot(x.numpy(),y.numpy())\n",
    "plt.grid()"
   ]
  },
  {
   "cell_type": "markdown",
   "id": "a15084e7",
   "metadata": {},
   "source": [
    "#### Neural Network with this new model"
   ]
  },
  {
   "cell_type": "code",
   "execution_count": 21,
   "id": "02f909dc",
   "metadata": {},
   "outputs": [],
   "source": [
    "class MyNeuralNet(nn.Module):\n",
    "    def __init__(self):\n",
    "        super().__init__()\n",
    "        self.Matrix1 = nn.Linear(2,8,bias=False)\n",
    "        self.Matrix2 = nn.Linear(8,1,bias=False)\n",
    "        self.R = nn.ReLU()\n",
    "    def forward(self,x):\n",
    "        x = self.R(self.Matrix1(x))\n",
    "        x = self.Matrix2(x)\n",
    "        return x.squeeze()"
   ]
  },
  {
   "cell_type": "markdown",
   "id": "d95758dc",
   "metadata": {},
   "source": [
    "Let's build a function to do the training"
   ]
  },
  {
   "cell_type": "code",
   "execution_count": 22,
   "id": "d53f2c78",
   "metadata": {},
   "outputs": [],
   "source": [
    "def train_model(x, y, f, n_epochs = 100, ell = 0.001):\n",
    "    opt = SGD(f.parameters(), lr = ell)\n",
    "    L = nn.MSELoss()\n",
    "    \n",
    "    #Train model\n",
    "    losses = []\n",
    "    for _ in range(n_epochs):\n",
    "        opt.zero_grad() #flush previous epoch's gradient\n",
    "        loss_value = L(f(x), y) #compute loss\n",
    "        loss_value.backward() #compute gradient\n",
    "        opt.step() #perform iteration using gradient above\n",
    "        losses.append(loss_value.item())\n",
    "    return f, losses"
   ]
  },
  {
   "cell_type": "code",
   "execution_count": 23,
   "id": "4b132265",
   "metadata": {},
   "outputs": [],
   "source": [
    "x = torch.tensor([[6,2],[5,2],[1,3],[7,6]]).float()\n",
    "y = torch.tensor([1,5,2,5]).float()\n",
    "f2 = MyNeuralNet()\n",
    "\n",
    "#Train model\n",
    "f2, losses2 = train_model(x, y, f2, n_epochs=10000)"
   ]
  },
  {
   "cell_type": "code",
   "execution_count": 24,
   "id": "71399f58",
   "metadata": {},
   "outputs": [
    {
     "data": {
      "text/plain": [
       "(tensor([1., 5., 2., 5.]),\n",
       " tensor([2.8052, 2.5154, 1.9967, 5.2280], grad_fn=<SqueezeBackward0>))"
      ]
     },
     "execution_count": 24,
     "metadata": {},
     "output_type": "execute_result"
    }
   ],
   "source": [
    "y, f2(x)"
   ]
  },
  {
   "cell_type": "markdown",
   "id": "a6e5174a",
   "metadata": {},
   "source": [
    "Now that we have the non-linear operator $R$ we can add more parameter (larger matrices) without all these elements collapsing"
   ]
  },
  {
   "cell_type": "code",
   "execution_count": 28,
   "id": "2d09f2b4",
   "metadata": {},
   "outputs": [],
   "source": [
    "class MyNeuralNet3(nn.Module):\n",
    "    def __init__(self):\n",
    "        super().__init__()\n",
    "        self.Matrix1 = nn.Linear(2,80,bias=False)\n",
    "        self.Matrix2 = nn.Linear(80,1,bias=False)\n",
    "        self.R = nn.ReLU()\n",
    "    def forward(self,x):\n",
    "        x = self.R(self.Matrix1(x))\n",
    "        x = self.Matrix2(x)\n",
    "        return x.squeeze()"
   ]
  },
  {
   "cell_type": "code",
   "execution_count": 30,
   "id": "1884723e",
   "metadata": {},
   "outputs": [
    {
     "ename": "SyntaxError",
     "evalue": "cannot assign to function call (414162440.py, line 5)",
     "output_type": "error",
     "traceback": [
      "\u001b[0;36m  Input \u001b[0;32mIn [30]\u001b[0;36m\u001b[0m\n\u001b[0;31m    y = torch.tensor([1,5,2,5]).float() = torch.tensor([[6,2],[5,2],[1,3],[7,6]]).float()\u001b[0m\n\u001b[0m        ^\u001b[0m\n\u001b[0;31mSyntaxError\u001b[0m\u001b[0;31m:\u001b[0m cannot assign to function call\n"
     ]
    }
   ],
   "source": [
    "x = torch.tensor([[6,2],[5,2],[1,3],[7,6]]).float()\n",
    "y = torch.tensor([1,5,2,5]).float()\n",
    "f3 = MyNeuralNet3()\n",
    "x = torch.tensor([[6,2],[5,2],[1,3],[7,6]]).float()\n",
    "y = torch.tensor([1,5,2,5]).float() = torch.tensor([[6,2],[5,2],[1,3],[7,6]]).float()\n",
    "y = torch.tensor([1,5,2,5]).float()\n",
    "f3, losses3 = train_model(x, y, f3, n_epochs=5000)"
   ]
  },
  {
   "cell_type": "code",
   "execution_count": 27,
   "id": "69e3671b",
   "metadata": {},
   "outputs": [
    {
     "ename": "NameError",
     "evalue": "name 'f3' is not defined",
     "output_type": "error",
     "traceback": [
      "\u001b[0;31m---------------------------------------------------------------------------\u001b[0m",
      "\u001b[0;31mNameError\u001b[0m                                 Traceback (most recent call last)",
      "Input \u001b[0;32mIn [27]\u001b[0m, in \u001b[0;36m<cell line: 1>\u001b[0;34m()\u001b[0m\n\u001b[0;32m----> 1\u001b[0m y, \u001b[43mf3\u001b[49m(x)\n",
      "\u001b[0;31mNameError\u001b[0m: name 'f3' is not defined"
     ]
    }
   ],
   "source": [
    "y, f3(x)"
   ]
  },
  {
   "cell_type": "markdown",
   "id": "3c79ead4",
   "metadata": {},
   "source": [
    "#### Bias"
   ]
  },
  {
   "cell_type": "markdown",
   "id": "33feacc9",
   "metadata": {},
   "source": [
    "To make the network even better, we can add some extra parameters in the form of a bias vector.  \n",
    "The model would now look as following:  \n",
    "$$\n",
    "f(x) = A_2 R(A_1 x + b_1) + b_2\n",
    "$$"
   ]
  },
  {
   "cell_type": "code",
   "execution_count": 60,
   "id": "725b8837",
   "metadata": {},
   "outputs": [],
   "source": [
    "class MyNeuralNet4(nn.Module):\n",
    "    def __init__(self):\n",
    "        super().__init__()\n",
    "        self.Matrix1 = nn.Linear(2,80)\n",
    "        self.Matrix2 = nn.Linear(80,1)\n",
    "        self.R = nn.ReLU()\n",
    "    def forward(self,x):\n",
    "        x = self.R(self.Matrix1(x))\n",
    "        x = self.Matrix2(x)\n",
    "        return x.squeeze()"
   ]
  },
  {
   "cell_type": "code",
   "execution_count": 61,
   "id": "24fddc32",
   "metadata": {},
   "outputs": [],
   "source": [
    "x = torch.tensor([[6,2],[5,2],[1,3],[7,6]]).float()\n",
    "y = torch.tensor([1,5,2,5]).float()\n",
    "f4 = MyNeuralNet4()\n",
    "\n",
    "f4, losses4 = train_model(x, y, f4, n_epochs=5000)"
   ]
  },
  {
   "cell_type": "code",
   "execution_count": 63,
   "id": "ac4e9c2a",
   "metadata": {},
   "outputs": [
    {
     "data": {
      "text/plain": [
       "(tensor([1., 5., 2., 5.]),\n",
       " tensor([1.4323, 4.4477, 2.0328, 5.0112], grad_fn=<SqueezeBackward0>))"
      ]
     },
     "execution_count": 63,
     "metadata": {},
     "output_type": "execute_result"
    }
   ],
   "source": [
    "y, f4(x)"
   ]
  },
  {
   "cell_type": "markdown",
   "id": "a4510b15",
   "metadata": {},
   "source": [
    "Our final iteration of the model is as following:  \n",
    "$$\n",
    "f(x) = A_3 R(A_2 R(A_1 x + b_1) + b_2) + b_3\n",
    "$$  \n",
    "We just added another parameter matrix"
   ]
  },
  {
   "cell_type": "code",
   "execution_count": 64,
   "id": "8bda64a7",
   "metadata": {},
   "outputs": [],
   "source": [
    "class MyNeuralNet5(nn.Module):\n",
    "    def __init__(self):\n",
    "        super().__init__()\n",
    "        self.Matrix1 = nn.Linear(2,80)\n",
    "        self.Matrix2 = nn.Linear(80,80)\n",
    "        self.Matrix3 = nn.Linear(80,1)\n",
    "        self.R = nn.ReLU()\n",
    "    def forward(self,x):\n",
    "        x = self.R(self.Matrix1(x))\n",
    "        x = self.R(self.Matrix2(x))\n",
    "        x = self.Matrix3(x)\n",
    "        return x.squeeze()"
   ]
  },
  {
   "cell_type": "code",
   "execution_count": 65,
   "id": "1a219597",
   "metadata": {},
   "outputs": [],
   "source": [
    "x = torch.tensor([[6,2],[5,2],[1,3],[7,6]]).float()\n",
    "y = torch.tensor([1,5,2,5]).float()\n",
    "f5 = MyNeuralNet5()\n",
    "\n",
    "f5, losses5 = train_model(x, y, f4, n_epochs=5000)"
   ]
  },
  {
   "cell_type": "code",
   "execution_count": 66,
   "id": "b44dddc9",
   "metadata": {},
   "outputs": [
    {
     "data": {
      "text/plain": [
       "(tensor([1., 5., 2., 5.]),\n",
       " tensor([1.0126, 4.9837, 2.0008, 5.0004], grad_fn=<SqueezeBackward0>))"
      ]
     },
     "execution_count": 66,
     "metadata": {},
     "output_type": "execute_result"
    }
   ],
   "source": [
    "y, f5(x)"
   ]
  },
  {
   "cell_type": "markdown",
   "id": "2e00aeb1",
   "metadata": {},
   "source": [
    "### The Sequential Neural Network"
   ]
  },
  {
   "cell_type": "markdown",
   "id": "a4d124c1",
   "metadata": {},
   "source": [
    "The general form of a sequential neural network is expressed as:  \n",
    "$$\n",
    "f(x) = \\kappa_{i = 1}^n R_i(A_i x + b_i)\n",
    "$$\n",
    "Where $\\kappa_{i = 1}^n f_i(x) = f_n \\cdot f_{n-1} \\cdot ... \\cdot f_1 (x)$"
   ]
  },
  {
   "cell_type": "code",
   "execution_count": null,
   "id": "27bc44d5",
   "metadata": {},
   "outputs": [],
   "source": []
  }
 ],
 "metadata": {
  "kernelspec": {
   "display_name": "Python 3 (ipykernel)",
   "language": "python",
   "name": "python3"
  },
  "language_info": {
   "codemirror_mode": {
    "name": "ipython",
    "version": 3
   },
   "file_extension": ".py",
   "mimetype": "text/x-python",
   "name": "python",
   "nbconvert_exporter": "python",
   "pygments_lexer": "ipython3",
   "version": "3.10.5"
  }
 },
 "nbformat": 4,
 "nbformat_minor": 5
}
